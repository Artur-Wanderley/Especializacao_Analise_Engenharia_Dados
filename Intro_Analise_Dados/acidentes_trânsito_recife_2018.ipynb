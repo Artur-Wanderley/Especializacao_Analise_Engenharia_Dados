{
 "cells": [
  {
   "cell_type": "markdown",
   "metadata": {
    "colab_type": "text",
    "id": "4isRVNo3s_rH"
   },
   "source": [
    "# ESPECIALIZAÇÃO EM ANÁLISE E ENGENHARIA DE DADOS - Cesar School\n",
    "## Aluno: Artur Maia Wanderley\n",
    "# Disciplina: Introdução à Ciência de dados\n",
    "# Projeto: Explorando os dados de acidentes de trânsito no município de Recife em 2018\n",
    "\n",
    "## Introdução\n",
    "O objetivo deste projeto é explorar os dados referentes aos acidentes de trânsito, com e sem vítimas, no município de Recife no ano de 2018. \n",
    "\n",
    "Este projeto está dividido em 4 partes:\n",
    "\n",
    "- Obtenção dos dados\n",
    "- Pré-processamento dos dados\n",
    "  - Definição de tipos\n",
    "  - Tratamento de dados ausentes\n",
    "  - Normalização e discretização\n",
    "  - Detecção de outliers (univariado e bivariado)\n",
    "- Estatística descritiva e visualização dos dados\n",
    "    - Pergunta 1: Em quais horários ocorrem mais acidentes de trânsito na cidade de Recife?\n",
    "    - Pergunta 2: Em quais bairros do Recife acidentes de trânsito são mais communs?\n",
    "    - Pergunta 3: O número de acidentes de trânsito por bairro está correlacionado com o número de vítimas de trânsito por bairro?\n",
    "    - Pergunta 4: Quais tipos de acidentes causam maior número de vítimas fatais?\n",
    "    - Pergunta 5: Qual a média, a mediana e o desvio padrão do número de vítimas por tipo de acidente?\n",
    "- Conclusões"
   ]
  },
  {
   "cell_type": "code",
   "execution_count": 1646,
   "metadata": {
    "colab": {},
    "colab_type": "code",
    "id": "MYvTa2no1HbI"
   },
   "outputs": [],
   "source": [
    "# Importando as bibliotecas que serão utilizadas nesse projeto\n",
    "import pandas as pd\n",
    "import numpy as np\n",
    "import matplotlib.pyplot as plt\n",
    "%matplotlib inline\n",
    "import seaborn as sns\n",
    "from sklearn.preprocessing import StandardScaler, MinMaxScaler"
   ]
  },
  {
   "cell_type": "markdown",
   "metadata": {
    "colab_type": "text",
    "id": "DS3bLyBnx3Hn"
   },
   "source": [
    "# 1. Obtenção dos dados\n",
    "Os dados utilizados neste projeto foram obtidos no [Portal de Dados Abertos da Cidade do Recife](http://dados.recife.pe.gov.br/) e podem ser acessados [aqui](http://dados.recife.pe.gov.br/dataset/acidentes-de-transito-com-e-sem-vitimas/resource/2485590a-3b35-4ad0-b955-8dfc36b61021)."
   ]
  },
  {
   "cell_type": "code",
   "execution_count": 1647,
   "metadata": {
    "colab": {
     "base_uri": "https://localhost:8080/",
     "height": 547
    },
    "colab_type": "code",
    "executionInfo": {
     "elapsed": 1011,
     "status": "ok",
     "timestamp": 1577112624235,
     "user": {
      "displayName": "Artur Wanderley",
      "photoUrl": "",
      "userId": "18409620323638773816"
     },
     "user_tz": 180
    },
    "id": "A3zYuB7wy_8r",
    "outputId": "660cc731-91d9-4aae-f5cb-4b9d0f959129"
   },
   "outputs": [
    {
     "data": {
      "text/html": [
       "<div>\n",
       "<style scoped>\n",
       "    .dataframe tbody tr th:only-of-type {\n",
       "        vertical-align: middle;\n",
       "    }\n",
       "\n",
       "    .dataframe tbody tr th {\n",
       "        vertical-align: top;\n",
       "    }\n",
       "\n",
       "    .dataframe thead th {\n",
       "        text-align: right;\n",
       "    }\n",
       "</style>\n",
       "<table border=\"1\" class=\"dataframe\">\n",
       "  <thead>\n",
       "    <tr style=\"text-align: right;\">\n",
       "      <th></th>\n",
       "      <th>tipo</th>\n",
       "      <th>situacao</th>\n",
       "      <th>data</th>\n",
       "      <th>hora</th>\n",
       "      <th>bairro</th>\n",
       "      <th>endereco</th>\n",
       "      <th>numero</th>\n",
       "      <th>complemento</th>\n",
       "      <th>natureza</th>\n",
       "      <th>descricao</th>\n",
       "      <th>...</th>\n",
       "      <th>moto</th>\n",
       "      <th>ciclom</th>\n",
       "      <th>ciclista</th>\n",
       "      <th>pedestre</th>\n",
       "      <th>onibus</th>\n",
       "      <th>caminhao</th>\n",
       "      <th>viatura</th>\n",
       "      <th>outros</th>\n",
       "      <th>vitimas</th>\n",
       "      <th>vitimasfatais</th>\n",
       "    </tr>\n",
       "  </thead>\n",
       "  <tbody>\n",
       "    <tr>\n",
       "      <td>0</td>\n",
       "      <td>ATROPELAMENTO</td>\n",
       "      <td>FINALIZADA</td>\n",
       "      <td>2018-01-01</td>\n",
       "      <td>0:01:00</td>\n",
       "      <td>SÃO JOSÉ</td>\n",
       "      <td>AV ENGENHEIRO JOSE ESTELITA</td>\n",
       "      <td>NaN</td>\n",
       "      <td>EM FRENTE AO CAIS JOSE ESTELITA</td>\n",
       "      <td>ATROPELAMENTO</td>\n",
       "      <td>AUTO E PEDESTRE C/V</td>\n",
       "      <td>...</td>\n",
       "      <td>NaN</td>\n",
       "      <td>NaN</td>\n",
       "      <td>NaN</td>\n",
       "      <td>1</td>\n",
       "      <td>NaN</td>\n",
       "      <td>NaN</td>\n",
       "      <td>NaN</td>\n",
       "      <td>NaN</td>\n",
       "      <td>1</td>\n",
       "      <td>NaN</td>\n",
       "    </tr>\n",
       "    <tr>\n",
       "      <td>1</td>\n",
       "      <td>COLISÃO</td>\n",
       "      <td>CANCELADA</td>\n",
       "      <td>2018-01-01</td>\n",
       "      <td>2:45:00</td>\n",
       "      <td>CORDEIRO</td>\n",
       "      <td>AV CAXANGA</td>\n",
       "      <td>NaN</td>\n",
       "      <td>PROX DO GALETOS, EM FRENTE AO PARQUE DE EXPOSI...</td>\n",
       "      <td>COLISÃO</td>\n",
       "      <td>COLISÃO ENTRE AUTO E MO S/V</td>\n",
       "      <td>...</td>\n",
       "      <td>1.0</td>\n",
       "      <td>NaN</td>\n",
       "      <td>NaN</td>\n",
       "      <td>NaN</td>\n",
       "      <td>NaN</td>\n",
       "      <td>NaN</td>\n",
       "      <td>NaN</td>\n",
       "      <td>NaN</td>\n",
       "      <td>0</td>\n",
       "      <td>NaN</td>\n",
       "    </tr>\n",
       "    <tr>\n",
       "      <td>2</td>\n",
       "      <td>COLISÃO</td>\n",
       "      <td>CANCELADA</td>\n",
       "      <td>2018-01-01</td>\n",
       "      <td>3:33:00</td>\n",
       "      <td>BOA VIAGEM</td>\n",
       "      <td>AV CONSELHEIRO AGUIAR</td>\n",
       "      <td>NaN</td>\n",
       "      <td>PROX DO BANCO DO BRASIL, PROX DO BANCO ITAÚ</td>\n",
       "      <td>COLISÃO</td>\n",
       "      <td>COLISÃO ENTRE UM AUTO(TAXI) E VIATURA DA AERON...</td>\n",
       "      <td>...</td>\n",
       "      <td>NaN</td>\n",
       "      <td>NaN</td>\n",
       "      <td>NaN</td>\n",
       "      <td>NaN</td>\n",
       "      <td>NaN</td>\n",
       "      <td>NaN</td>\n",
       "      <td>1</td>\n",
       "      <td>NaN</td>\n",
       "      <td>0</td>\n",
       "      <td>NaN</td>\n",
       "    </tr>\n",
       "    <tr>\n",
       "      <td>3</td>\n",
       "      <td>COLISÃO</td>\n",
       "      <td>FINALIZADA</td>\n",
       "      <td>2018-01-01</td>\n",
       "      <td>7:13:00</td>\n",
       "      <td>BAIRRO DO RECIFE</td>\n",
       "      <td>AV ALFREDO LISBOA</td>\n",
       "      <td>NaN</td>\n",
       "      <td>PROX  AO POSTO  DE GASOLINA  BR   AO LADO  DO ...</td>\n",
       "      <td>COLISÃO</td>\n",
       "      <td>COLISÃO  SEM  VITIMAS</td>\n",
       "      <td>...</td>\n",
       "      <td>NaN</td>\n",
       "      <td>NaN</td>\n",
       "      <td>NaN</td>\n",
       "      <td>NaN</td>\n",
       "      <td>NaN</td>\n",
       "      <td>NaN</td>\n",
       "      <td>NaN</td>\n",
       "      <td>NaN</td>\n",
       "      <td>0</td>\n",
       "      <td>NaN</td>\n",
       "    </tr>\n",
       "    <tr>\n",
       "      <td>4</td>\n",
       "      <td>COLISÃO</td>\n",
       "      <td>FINALIZADA</td>\n",
       "      <td>2018-01-01</td>\n",
       "      <td>7:50:00</td>\n",
       "      <td>CASA AMARELA</td>\n",
       "      <td>RUA PADRE LEMOS</td>\n",
       "      <td>767</td>\n",
       "      <td>EM FRENTE AO POSTO PETROBRAS</td>\n",
       "      <td>COLISÃO</td>\n",
       "      <td>TAXI E AUTO</td>\n",
       "      <td>...</td>\n",
       "      <td>NaN</td>\n",
       "      <td>NaN</td>\n",
       "      <td>NaN</td>\n",
       "      <td>NaN</td>\n",
       "      <td>NaN</td>\n",
       "      <td>NaN</td>\n",
       "      <td>NaN</td>\n",
       "      <td>NaN</td>\n",
       "      <td>0</td>\n",
       "      <td>NaN</td>\n",
       "    </tr>\n",
       "  </tbody>\n",
       "</table>\n",
       "<p>5 rows × 21 columns</p>\n",
       "</div>"
      ],
      "text/plain": [
       "            tipo    situacao        data     hora            bairro  \\\n",
       "0  ATROPELAMENTO  FINALIZADA  2018-01-01  0:01:00          SÃO JOSÉ   \n",
       "1        COLISÃO   CANCELADA  2018-01-01  2:45:00          CORDEIRO   \n",
       "2        COLISÃO   CANCELADA  2018-01-01  3:33:00        BOA VIAGEM   \n",
       "3        COLISÃO  FINALIZADA  2018-01-01  7:13:00  BAIRRO DO RECIFE   \n",
       "4        COLISÃO  FINALIZADA  2018-01-01  7:50:00      CASA AMARELA   \n",
       "\n",
       "                      endereco numero  \\\n",
       "0  AV ENGENHEIRO JOSE ESTELITA    NaN   \n",
       "1                   AV CAXANGA    NaN   \n",
       "2        AV CONSELHEIRO AGUIAR    NaN   \n",
       "3            AV ALFREDO LISBOA    NaN   \n",
       "4              RUA PADRE LEMOS    767   \n",
       "\n",
       "                                         complemento       natureza  \\\n",
       "0                    EM FRENTE AO CAIS JOSE ESTELITA  ATROPELAMENTO   \n",
       "1  PROX DO GALETOS, EM FRENTE AO PARQUE DE EXPOSI...        COLISÃO   \n",
       "2        PROX DO BANCO DO BRASIL, PROX DO BANCO ITAÚ        COLISÃO   \n",
       "3  PROX  AO POSTO  DE GASOLINA  BR   AO LADO  DO ...        COLISÃO   \n",
       "4                       EM FRENTE AO POSTO PETROBRAS        COLISÃO   \n",
       "\n",
       "                                           descricao  ... moto  ciclom  \\\n",
       "0                                AUTO E PEDESTRE C/V  ...  NaN     NaN   \n",
       "1                        COLISÃO ENTRE AUTO E MO S/V  ...  1.0     NaN   \n",
       "2  COLISÃO ENTRE UM AUTO(TAXI) E VIATURA DA AERON...  ...  NaN     NaN   \n",
       "3                              COLISÃO  SEM  VITIMAS  ...  NaN     NaN   \n",
       "4                                        TAXI E AUTO  ...  NaN     NaN   \n",
       "\n",
       "   ciclista  pedestre onibus  caminhao  viatura outros vitimas vitimasfatais  \n",
       "0       NaN         1    NaN       NaN      NaN    NaN       1           NaN  \n",
       "1       NaN       NaN    NaN       NaN      NaN    NaN       0           NaN  \n",
       "2       NaN       NaN    NaN       NaN        1    NaN       0           NaN  \n",
       "3       NaN       NaN    NaN       NaN      NaN    NaN       0           NaN  \n",
       "4       NaN       NaN    NaN       NaN      NaN    NaN       0           NaN  \n",
       "\n",
       "[5 rows x 21 columns]"
      ]
     },
     "execution_count": 1647,
     "metadata": {},
     "output_type": "execute_result"
    }
   ],
   "source": [
    "# Importando os dados\n",
    "acidentes_rec=pd.read_csv(\"https://raw.githubusercontent.com/Artur-Wanderley/introducao-analise-de-dados/master/acidentes2018.csv\",sep=\";\")\n",
    "acidentes_rec.head()"
   ]
  },
  {
   "cell_type": "markdown",
   "metadata": {
    "colab_type": "text",
    "id": "p_abIE121EAy"
   },
   "source": [
    "# 2 Pré-processamento dos dados\n",
    "## 2.1 Definição dos tipos de dados\n",
    "Agora, vamos visualizar os tipos de dados em `acidentes_rec`."
   ]
  },
  {
   "cell_type": "code",
   "execution_count": 1648,
   "metadata": {
    "colab": {
     "base_uri": "https://localhost:8080/",
     "height": 391
    },
    "colab_type": "code",
    "executionInfo": {
     "elapsed": 682,
     "status": "ok",
     "timestamp": 1577105906586,
     "user": {
      "displayName": "Artur Wanderley",
      "photoUrl": "",
      "userId": "18409620323638773816"
     },
     "user_tz": 180
    },
    "id": "8O1Xba3Z3A6d",
    "outputId": "f2673db4-85dd-480f-c3e3-8647a4ded953"
   },
   "outputs": [
    {
     "data": {
      "text/plain": [
       "tipo              object\n",
       "situacao          object\n",
       "data              object\n",
       "hora              object\n",
       "bairro            object\n",
       "endereco          object\n",
       "numero            object\n",
       "complemento       object\n",
       "natureza          object\n",
       "descricao         object\n",
       "auto              object\n",
       "moto             float64\n",
       "ciclom           float64\n",
       "ciclista         float64\n",
       "pedestre          object\n",
       "onibus           float64\n",
       "caminhao         float64\n",
       "viatura           object\n",
       "outros            object\n",
       "vitimas           object\n",
       "vitimasfatais    float64\n",
       "dtype: object"
      ]
     },
     "execution_count": 1648,
     "metadata": {},
     "output_type": "execute_result"
    }
   ],
   "source": [
    "acidentes_rec.dtypes"
   ]
  },
  {
   "cell_type": "markdown",
   "metadata": {
    "colab_type": "text",
    "id": "cmjgkv-b2UBq"
   },
   "source": [
    "Existem dois tipos de dados em `acidentes_rec`, `object` e `float64`. \n",
    "\n",
    "Como vemos acima, as colunas `tipo` e `situacao` podem ser transformadas em variáveis categóricas. Vamos olhar quais valores essas colunas trazem.\n",
    "\n",
    "Já as colunas `data` e `hora` podem ser concatenadas e convertidas para o tipo `datetime`.\n",
    "\n",
    "As colunas `bairro`, `endereco`, `numero`, `complemento`, `natureza` e `descricao` podem ser mantidos como tipo `object` já que elas são strings que contêm informações acerca do local e das circunstâncias em que as colisões ocorreram. \n",
    "\n",
    "As demais colunas informam o número de veículos de diferentes tipos, bem como de pedestres e vítimas envolvidos nas colisões. Portanto, transformaremos os valores de todas essas colunas em valores numéricos (`int64`).\n",
    "\n",
    "Começaremos transformandos as colunas `tipo`e `situação` em variáveis categóricas."
   ]
  },
  {
   "cell_type": "markdown",
   "metadata": {
    "colab_type": "text",
    "id": "OFesNwzsC0k1"
   },
   "source": [
    "## Convertendo as colunas `tipo` e `situacao` em variáveis categóricas"
   ]
  },
  {
   "cell_type": "code",
   "execution_count": 1649,
   "metadata": {
    "colab": {
     "base_uri": "https://localhost:8080/",
     "height": 357
    },
    "colab_type": "code",
    "executionInfo": {
     "elapsed": 726,
     "status": "ok",
     "timestamp": 1577107071737,
     "user": {
      "displayName": "Artur Wanderley",
      "photoUrl": "",
      "userId": "18409620323638773816"
     },
     "user_tz": 180
    },
    "id": "qG2_fDg11x0m",
    "outputId": "18629e1d-b67d-487a-b3e2-55fdac93c394"
   },
   "outputs": [
    {
     "name": "stdout",
     "output_type": "stream",
     "text": [
      "COLISÃO                      8604\n",
      "ABALROAMENTO LONGITUDINAL     704\n",
      "COLISÃO TRASEIRA              524\n",
      "ABALROAMENTO TRANSVERSAL      381\n",
      "ATROPELAMENTO                 213\n",
      "CHOQUE                        196\n",
      "ENGAVETAMENTO                 172\n",
      "COLISÃO COM CICLISTA          163\n",
      "CHOQUE VEÍCULO PARADO          78\n",
      "ACID. DE PERCURSO              60\n",
      "COLISÃO FRONTAL                49\n",
      "CHOQUE OBJETO FIXO             38\n",
      "CAPOTAMENTO                    22\n",
      "QUEDA DE ÁRVORE                21\n",
      "ATROPELAMENTO ANIMAL            7\n",
      "TOMBAMENTO                      7\n",
      "0                               1\n",
      "Name: tipo, dtype: int64\n",
      "\n",
      "Número de valores únicos:  17\n"
     ]
    }
   ],
   "source": [
    "# Observando os valores únicos na coluna tipo\n",
    "unicos_tipo=acidentes_rec.tipo.value_counts()\n",
    "print(unicos_tipo)\n",
    "print(\"\\nNúmero de valores únicos: \",unicos_tipo.shape[0])"
   ]
  },
  {
   "cell_type": "markdown",
   "metadata": {
    "colab_type": "text",
    "id": "kAyiYjaf5eLB"
   },
   "source": [
    "Como podemos ver, existem 17 valores únicos na coluna tipo que se referem a categorias distintas de colisão. Note que existe uma categoria cujo valor é `0`. Mais adiante investigaremos se esse valor é um erro que devemos remover do nosso dataset. \n",
    "\n",
    "Por enquanto, vamos transformar a coluna `tipo` em uma variável categórica com 17 categorias distintas de colisão. "
   ]
  },
  {
   "cell_type": "code",
   "execution_count": 1650,
   "metadata": {
    "colab": {},
    "colab_type": "code",
    "id": "ZNHHZbMb5F-a"
   },
   "outputs": [],
   "source": [
    "# Convertendo a coluna tipo em uma variável categórica\n",
    "acidentes_rec.tipo=acidentes_rec.tipo.astype(\"category\")"
   ]
  },
  {
   "cell_type": "markdown",
   "metadata": {
    "colab_type": "text",
    "id": "-pmiM6cY-CRv"
   },
   "source": [
    "Agora vamos ver os valores únicos da coluna `situacao`."
   ]
  },
  {
   "cell_type": "code",
   "execution_count": 1651,
   "metadata": {
    "colab": {
     "base_uri": "https://localhost:8080/",
     "height": 136
    },
    "colab_type": "code",
    "executionInfo": {
     "elapsed": 822,
     "status": "ok",
     "timestamp": 1577108285994,
     "user": {
      "displayName": "Artur Wanderley",
      "photoUrl": "",
      "userId": "18409620323638773816"
     },
     "user_tz": 180
    },
    "id": "dYcnEvZ_4xy2",
    "outputId": "7eaa9fe5-81cf-41a7-ddf3-6571a7c4b90d"
   },
   "outputs": [
    {
     "name": "stdout",
     "output_type": "stream",
     "text": [
      "FINALIZADA         9537\n",
      "CANCELADA          1693\n",
      "PENDENTE             46\n",
      "EQUIPE NO LOCAL       5\n",
      "Name: situacao, dtype: int64\n",
      "\n",
      "Número de valores únicos:  4\n"
     ]
    }
   ],
   "source": [
    "# Observando os valores únicos da coluna situação\n",
    "unicos_situacao=acidentes_rec.situacao.value_counts()\n",
    "print(unicos_situacao)\n",
    "print(\"\\nNúmero de valores únicos: \",unicos_situacao.shape[0])"
   ]
  },
  {
   "cell_type": "markdown",
   "metadata": {
    "colab_type": "text",
    "id": "Xw8VCkTa-um1"
   },
   "source": [
    "Como podemos ver, a coluna `situacao` possui valores únicos que indicam quatro  status de atendimento das ocorrências pelas autoridades.\n",
    "\n",
    "Vamos transformar a coluna `situacao` em uma variável categórica."
   ]
  },
  {
   "cell_type": "code",
   "execution_count": 1652,
   "metadata": {
    "colab": {},
    "colab_type": "code",
    "id": "2w4Q0zoj5BlU"
   },
   "outputs": [],
   "source": [
    "# Convertendo a coluna situacao em variável categórica\n",
    "acidentes_rec.situacao=acidentes_rec.situacao.astype(\"category\")"
   ]
  },
  {
   "cell_type": "markdown",
   "metadata": {
    "colab_type": "text",
    "id": "P2mAJj35DX8g"
   },
   "source": [
    "## Concatenando e convertendo as colunas `data` e `hora` em tipo `datetime`"
   ]
  },
  {
   "cell_type": "code",
   "execution_count": 1653,
   "metadata": {
    "colab": {
     "base_uri": "https://localhost:8080/",
     "height": 513
    },
    "colab_type": "code",
    "executionInfo": {
     "elapsed": 653,
     "status": "error",
     "timestamp": 1577112854166,
     "user": {
      "displayName": "Artur Wanderley",
      "photoUrl": "",
      "userId": "18409620323638773816"
     },
     "user_tz": 180
    },
    "id": "H-8-Eg_EQIP4",
    "outputId": "c8fb7273-7ed1-4dfb-e8a0-87b0069e6399"
   },
   "outputs": [
    {
     "data": {
      "text/html": [
       "<div>\n",
       "<style scoped>\n",
       "    .dataframe tbody tr th:only-of-type {\n",
       "        vertical-align: middle;\n",
       "    }\n",
       "\n",
       "    .dataframe tbody tr th {\n",
       "        vertical-align: top;\n",
       "    }\n",
       "\n",
       "    .dataframe thead th {\n",
       "        text-align: right;\n",
       "    }\n",
       "</style>\n",
       "<table border=\"1\" class=\"dataframe\">\n",
       "  <thead>\n",
       "    <tr style=\"text-align: right;\">\n",
       "      <th></th>\n",
       "      <th>data_hora</th>\n",
       "      <th>tipo</th>\n",
       "      <th>situacao</th>\n",
       "      <th>bairro</th>\n",
       "      <th>endereco</th>\n",
       "      <th>numero</th>\n",
       "      <th>complemento</th>\n",
       "      <th>natureza</th>\n",
       "      <th>descricao</th>\n",
       "      <th>auto</th>\n",
       "      <th>moto</th>\n",
       "      <th>ciclom</th>\n",
       "      <th>ciclista</th>\n",
       "      <th>pedestre</th>\n",
       "      <th>onibus</th>\n",
       "      <th>caminhao</th>\n",
       "      <th>viatura</th>\n",
       "      <th>outros</th>\n",
       "      <th>vitimas</th>\n",
       "      <th>vitimasfatais</th>\n",
       "    </tr>\n",
       "  </thead>\n",
       "  <tbody>\n",
       "    <tr>\n",
       "      <td>0</td>\n",
       "      <td>2018-01-01 00:01:00</td>\n",
       "      <td>ATROPELAMENTO</td>\n",
       "      <td>FINALIZADA</td>\n",
       "      <td>SÃO JOSÉ</td>\n",
       "      <td>AV ENGENHEIRO JOSE ESTELITA</td>\n",
       "      <td>NaN</td>\n",
       "      <td>EM FRENTE AO CAIS JOSE ESTELITA</td>\n",
       "      <td>ATROPELAMENTO</td>\n",
       "      <td>AUTO E PEDESTRE C/V</td>\n",
       "      <td>1</td>\n",
       "      <td>NaN</td>\n",
       "      <td>NaN</td>\n",
       "      <td>NaN</td>\n",
       "      <td>1</td>\n",
       "      <td>NaN</td>\n",
       "      <td>NaN</td>\n",
       "      <td>NaN</td>\n",
       "      <td>NaN</td>\n",
       "      <td>1</td>\n",
       "      <td>NaN</td>\n",
       "    </tr>\n",
       "    <tr>\n",
       "      <td>1</td>\n",
       "      <td>2018-01-01 02:45:00</td>\n",
       "      <td>COLISÃO</td>\n",
       "      <td>CANCELADA</td>\n",
       "      <td>CORDEIRO</td>\n",
       "      <td>AV CAXANGA</td>\n",
       "      <td>NaN</td>\n",
       "      <td>PROX DO GALETOS, EM FRENTE AO PARQUE DE EXPOSI...</td>\n",
       "      <td>COLISÃO</td>\n",
       "      <td>COLISÃO ENTRE AUTO E MO S/V</td>\n",
       "      <td>1</td>\n",
       "      <td>1.0</td>\n",
       "      <td>NaN</td>\n",
       "      <td>NaN</td>\n",
       "      <td>NaN</td>\n",
       "      <td>NaN</td>\n",
       "      <td>NaN</td>\n",
       "      <td>NaN</td>\n",
       "      <td>NaN</td>\n",
       "      <td>0</td>\n",
       "      <td>NaN</td>\n",
       "    </tr>\n",
       "    <tr>\n",
       "      <td>2</td>\n",
       "      <td>2018-01-01 03:33:00</td>\n",
       "      <td>COLISÃO</td>\n",
       "      <td>CANCELADA</td>\n",
       "      <td>BOA VIAGEM</td>\n",
       "      <td>AV CONSELHEIRO AGUIAR</td>\n",
       "      <td>NaN</td>\n",
       "      <td>PROX DO BANCO DO BRASIL, PROX DO BANCO ITAÚ</td>\n",
       "      <td>COLISÃO</td>\n",
       "      <td>COLISÃO ENTRE UM AUTO(TAXI) E VIATURA DA AERON...</td>\n",
       "      <td>1</td>\n",
       "      <td>NaN</td>\n",
       "      <td>NaN</td>\n",
       "      <td>NaN</td>\n",
       "      <td>NaN</td>\n",
       "      <td>NaN</td>\n",
       "      <td>NaN</td>\n",
       "      <td>1</td>\n",
       "      <td>NaN</td>\n",
       "      <td>0</td>\n",
       "      <td>NaN</td>\n",
       "    </tr>\n",
       "    <tr>\n",
       "      <td>3</td>\n",
       "      <td>2018-01-01 07:13:00</td>\n",
       "      <td>COLISÃO</td>\n",
       "      <td>FINALIZADA</td>\n",
       "      <td>BAIRRO DO RECIFE</td>\n",
       "      <td>AV ALFREDO LISBOA</td>\n",
       "      <td>NaN</td>\n",
       "      <td>PROX  AO POSTO  DE GASOLINA  BR   AO LADO  DO ...</td>\n",
       "      <td>COLISÃO</td>\n",
       "      <td>COLISÃO  SEM  VITIMAS</td>\n",
       "      <td>2</td>\n",
       "      <td>NaN</td>\n",
       "      <td>NaN</td>\n",
       "      <td>NaN</td>\n",
       "      <td>NaN</td>\n",
       "      <td>NaN</td>\n",
       "      <td>NaN</td>\n",
       "      <td>NaN</td>\n",
       "      <td>NaN</td>\n",
       "      <td>0</td>\n",
       "      <td>NaN</td>\n",
       "    </tr>\n",
       "    <tr>\n",
       "      <td>4</td>\n",
       "      <td>2018-01-01 07:50:00</td>\n",
       "      <td>COLISÃO</td>\n",
       "      <td>FINALIZADA</td>\n",
       "      <td>CASA AMARELA</td>\n",
       "      <td>RUA PADRE LEMOS</td>\n",
       "      <td>767</td>\n",
       "      <td>EM FRENTE AO POSTO PETROBRAS</td>\n",
       "      <td>COLISÃO</td>\n",
       "      <td>TAXI E AUTO</td>\n",
       "      <td>2</td>\n",
       "      <td>NaN</td>\n",
       "      <td>NaN</td>\n",
       "      <td>NaN</td>\n",
       "      <td>NaN</td>\n",
       "      <td>NaN</td>\n",
       "      <td>NaN</td>\n",
       "      <td>NaN</td>\n",
       "      <td>NaN</td>\n",
       "      <td>0</td>\n",
       "      <td>NaN</td>\n",
       "    </tr>\n",
       "  </tbody>\n",
       "</table>\n",
       "</div>"
      ],
      "text/plain": [
       "            data_hora           tipo    situacao            bairro  \\\n",
       "0 2018-01-01 00:01:00  ATROPELAMENTO  FINALIZADA          SÃO JOSÉ   \n",
       "1 2018-01-01 02:45:00        COLISÃO   CANCELADA          CORDEIRO   \n",
       "2 2018-01-01 03:33:00        COLISÃO   CANCELADA        BOA VIAGEM   \n",
       "3 2018-01-01 07:13:00        COLISÃO  FINALIZADA  BAIRRO DO RECIFE   \n",
       "4 2018-01-01 07:50:00        COLISÃO  FINALIZADA      CASA AMARELA   \n",
       "\n",
       "                      endereco numero  \\\n",
       "0  AV ENGENHEIRO JOSE ESTELITA    NaN   \n",
       "1                   AV CAXANGA    NaN   \n",
       "2        AV CONSELHEIRO AGUIAR    NaN   \n",
       "3            AV ALFREDO LISBOA    NaN   \n",
       "4              RUA PADRE LEMOS    767   \n",
       "\n",
       "                                         complemento       natureza  \\\n",
       "0                    EM FRENTE AO CAIS JOSE ESTELITA  ATROPELAMENTO   \n",
       "1  PROX DO GALETOS, EM FRENTE AO PARQUE DE EXPOSI...        COLISÃO   \n",
       "2        PROX DO BANCO DO BRASIL, PROX DO BANCO ITAÚ        COLISÃO   \n",
       "3  PROX  AO POSTO  DE GASOLINA  BR   AO LADO  DO ...        COLISÃO   \n",
       "4                       EM FRENTE AO POSTO PETROBRAS        COLISÃO   \n",
       "\n",
       "                                           descricao auto  moto  ciclom  \\\n",
       "0                                AUTO E PEDESTRE C/V    1   NaN     NaN   \n",
       "1                        COLISÃO ENTRE AUTO E MO S/V    1   1.0     NaN   \n",
       "2  COLISÃO ENTRE UM AUTO(TAXI) E VIATURA DA AERON...    1   NaN     NaN   \n",
       "3                              COLISÃO  SEM  VITIMAS    2   NaN     NaN   \n",
       "4                                        TAXI E AUTO    2   NaN     NaN   \n",
       "\n",
       "   ciclista pedestre  onibus  caminhao viatura outros vitimas  vitimasfatais  \n",
       "0       NaN        1     NaN       NaN     NaN    NaN       1            NaN  \n",
       "1       NaN      NaN     NaN       NaN     NaN    NaN       0            NaN  \n",
       "2       NaN      NaN     NaN       NaN       1    NaN       0            NaN  \n",
       "3       NaN      NaN     NaN       NaN     NaN    NaN       0            NaN  \n",
       "4       NaN      NaN     NaN       NaN     NaN    NaN       0            NaN  "
      ]
     },
     "execution_count": 1653,
     "metadata": {},
     "output_type": "execute_result"
    }
   ],
   "source": [
    "# Concatenando e convertendo as colunas data e hora em datetime\n",
    "data_hora=pd.to_datetime(acidentes_rec.data +\" \"+ acidentes_rec.hora,errors=\"coerce\")\n",
    "acidentes_rec=pd.concat([data_hora,acidentes_rec],axis=1)\n",
    "acidentes_rec.rename(columns={0:\"data_hora\"},inplace=True)\n",
    "acidentes_rec.drop(columns=[\"data\",\"hora\"],inplace=True)\n",
    "acidentes_rec.head()"
   ]
  },
  {
   "cell_type": "markdown",
   "metadata": {},
   "source": [
    "## Convertendo os valores das demais colunas em valores numéricos\n",
    "\n",
    "Veja acima que as colunas `auto`,\t`moto`,\t`ciclom`,\t`ciclista`,\t`pedestre`,\t`onibus`,\t`caminhao`,\t`viatura`,\t`outros`possuem `NaN`, mas isso não significa que sejam dados ausentes. Trataremos desses `NaN` mais adiante.\n",
    "\n",
    "Por hora, vamos apenas converter os valores dessas colunas que não são `NaN` em valores numéricos."
   ]
  },
  {
   "cell_type": "code",
   "execution_count": 1654,
   "metadata": {},
   "outputs": [
    {
     "data": {
      "text/html": [
       "<div>\n",
       "<style scoped>\n",
       "    .dataframe tbody tr th:only-of-type {\n",
       "        vertical-align: middle;\n",
       "    }\n",
       "\n",
       "    .dataframe tbody tr th {\n",
       "        vertical-align: top;\n",
       "    }\n",
       "\n",
       "    .dataframe thead th {\n",
       "        text-align: right;\n",
       "    }\n",
       "</style>\n",
       "<table border=\"1\" class=\"dataframe\">\n",
       "  <thead>\n",
       "    <tr style=\"text-align: right;\">\n",
       "      <th></th>\n",
       "      <th>data_hora</th>\n",
       "      <th>tipo</th>\n",
       "      <th>situacao</th>\n",
       "      <th>bairro</th>\n",
       "      <th>endereco</th>\n",
       "      <th>numero</th>\n",
       "      <th>complemento</th>\n",
       "      <th>natureza</th>\n",
       "      <th>descricao</th>\n",
       "      <th>auto</th>\n",
       "      <th>moto</th>\n",
       "      <th>ciclom</th>\n",
       "      <th>ciclista</th>\n",
       "      <th>pedestre</th>\n",
       "      <th>onibus</th>\n",
       "      <th>caminhao</th>\n",
       "      <th>viatura</th>\n",
       "      <th>outros</th>\n",
       "      <th>vitimas</th>\n",
       "      <th>vitimasfatais</th>\n",
       "    </tr>\n",
       "  </thead>\n",
       "  <tbody>\n",
       "    <tr>\n",
       "      <td>0</td>\n",
       "      <td>2018-01-01 00:01:00</td>\n",
       "      <td>ATROPELAMENTO</td>\n",
       "      <td>FINALIZADA</td>\n",
       "      <td>SÃO JOSÉ</td>\n",
       "      <td>AV ENGENHEIRO JOSE ESTELITA</td>\n",
       "      <td>NaN</td>\n",
       "      <td>EM FRENTE AO CAIS JOSE ESTELITA</td>\n",
       "      <td>ATROPELAMENTO</td>\n",
       "      <td>AUTO E PEDESTRE C/V</td>\n",
       "      <td>1.0</td>\n",
       "      <td>NaN</td>\n",
       "      <td>NaN</td>\n",
       "      <td>NaN</td>\n",
       "      <td>1.0</td>\n",
       "      <td>NaN</td>\n",
       "      <td>NaN</td>\n",
       "      <td>NaN</td>\n",
       "      <td>NaN</td>\n",
       "      <td>1.0</td>\n",
       "      <td>NaN</td>\n",
       "    </tr>\n",
       "    <tr>\n",
       "      <td>1</td>\n",
       "      <td>2018-01-01 02:45:00</td>\n",
       "      <td>COLISÃO</td>\n",
       "      <td>CANCELADA</td>\n",
       "      <td>CORDEIRO</td>\n",
       "      <td>AV CAXANGA</td>\n",
       "      <td>NaN</td>\n",
       "      <td>PROX DO GALETOS, EM FRENTE AO PARQUE DE EXPOSI...</td>\n",
       "      <td>COLISÃO</td>\n",
       "      <td>COLISÃO ENTRE AUTO E MO S/V</td>\n",
       "      <td>1.0</td>\n",
       "      <td>1.0</td>\n",
       "      <td>NaN</td>\n",
       "      <td>NaN</td>\n",
       "      <td>NaN</td>\n",
       "      <td>NaN</td>\n",
       "      <td>NaN</td>\n",
       "      <td>NaN</td>\n",
       "      <td>NaN</td>\n",
       "      <td>0.0</td>\n",
       "      <td>NaN</td>\n",
       "    </tr>\n",
       "    <tr>\n",
       "      <td>2</td>\n",
       "      <td>2018-01-01 03:33:00</td>\n",
       "      <td>COLISÃO</td>\n",
       "      <td>CANCELADA</td>\n",
       "      <td>BOA VIAGEM</td>\n",
       "      <td>AV CONSELHEIRO AGUIAR</td>\n",
       "      <td>NaN</td>\n",
       "      <td>PROX DO BANCO DO BRASIL, PROX DO BANCO ITAÚ</td>\n",
       "      <td>COLISÃO</td>\n",
       "      <td>COLISÃO ENTRE UM AUTO(TAXI) E VIATURA DA AERON...</td>\n",
       "      <td>1.0</td>\n",
       "      <td>NaN</td>\n",
       "      <td>NaN</td>\n",
       "      <td>NaN</td>\n",
       "      <td>NaN</td>\n",
       "      <td>NaN</td>\n",
       "      <td>NaN</td>\n",
       "      <td>1.0</td>\n",
       "      <td>NaN</td>\n",
       "      <td>0.0</td>\n",
       "      <td>NaN</td>\n",
       "    </tr>\n",
       "    <tr>\n",
       "      <td>3</td>\n",
       "      <td>2018-01-01 07:13:00</td>\n",
       "      <td>COLISÃO</td>\n",
       "      <td>FINALIZADA</td>\n",
       "      <td>BAIRRO DO RECIFE</td>\n",
       "      <td>AV ALFREDO LISBOA</td>\n",
       "      <td>NaN</td>\n",
       "      <td>PROX  AO POSTO  DE GASOLINA  BR   AO LADO  DO ...</td>\n",
       "      <td>COLISÃO</td>\n",
       "      <td>COLISÃO  SEM  VITIMAS</td>\n",
       "      <td>2.0</td>\n",
       "      <td>NaN</td>\n",
       "      <td>NaN</td>\n",
       "      <td>NaN</td>\n",
       "      <td>NaN</td>\n",
       "      <td>NaN</td>\n",
       "      <td>NaN</td>\n",
       "      <td>NaN</td>\n",
       "      <td>NaN</td>\n",
       "      <td>0.0</td>\n",
       "      <td>NaN</td>\n",
       "    </tr>\n",
       "    <tr>\n",
       "      <td>4</td>\n",
       "      <td>2018-01-01 07:50:00</td>\n",
       "      <td>COLISÃO</td>\n",
       "      <td>FINALIZADA</td>\n",
       "      <td>CASA AMARELA</td>\n",
       "      <td>RUA PADRE LEMOS</td>\n",
       "      <td>767</td>\n",
       "      <td>EM FRENTE AO POSTO PETROBRAS</td>\n",
       "      <td>COLISÃO</td>\n",
       "      <td>TAXI E AUTO</td>\n",
       "      <td>2.0</td>\n",
       "      <td>NaN</td>\n",
       "      <td>NaN</td>\n",
       "      <td>NaN</td>\n",
       "      <td>NaN</td>\n",
       "      <td>NaN</td>\n",
       "      <td>NaN</td>\n",
       "      <td>NaN</td>\n",
       "      <td>NaN</td>\n",
       "      <td>0.0</td>\n",
       "      <td>NaN</td>\n",
       "    </tr>\n",
       "  </tbody>\n",
       "</table>\n",
       "</div>"
      ],
      "text/plain": [
       "            data_hora           tipo    situacao            bairro  \\\n",
       "0 2018-01-01 00:01:00  ATROPELAMENTO  FINALIZADA          SÃO JOSÉ   \n",
       "1 2018-01-01 02:45:00        COLISÃO   CANCELADA          CORDEIRO   \n",
       "2 2018-01-01 03:33:00        COLISÃO   CANCELADA        BOA VIAGEM   \n",
       "3 2018-01-01 07:13:00        COLISÃO  FINALIZADA  BAIRRO DO RECIFE   \n",
       "4 2018-01-01 07:50:00        COLISÃO  FINALIZADA      CASA AMARELA   \n",
       "\n",
       "                      endereco numero  \\\n",
       "0  AV ENGENHEIRO JOSE ESTELITA    NaN   \n",
       "1                   AV CAXANGA    NaN   \n",
       "2        AV CONSELHEIRO AGUIAR    NaN   \n",
       "3            AV ALFREDO LISBOA    NaN   \n",
       "4              RUA PADRE LEMOS    767   \n",
       "\n",
       "                                         complemento       natureza  \\\n",
       "0                    EM FRENTE AO CAIS JOSE ESTELITA  ATROPELAMENTO   \n",
       "1  PROX DO GALETOS, EM FRENTE AO PARQUE DE EXPOSI...        COLISÃO   \n",
       "2        PROX DO BANCO DO BRASIL, PROX DO BANCO ITAÚ        COLISÃO   \n",
       "3  PROX  AO POSTO  DE GASOLINA  BR   AO LADO  DO ...        COLISÃO   \n",
       "4                       EM FRENTE AO POSTO PETROBRAS        COLISÃO   \n",
       "\n",
       "                                           descricao  auto  moto  ciclom  \\\n",
       "0                                AUTO E PEDESTRE C/V   1.0   NaN     NaN   \n",
       "1                        COLISÃO ENTRE AUTO E MO S/V   1.0   1.0     NaN   \n",
       "2  COLISÃO ENTRE UM AUTO(TAXI) E VIATURA DA AERON...   1.0   NaN     NaN   \n",
       "3                              COLISÃO  SEM  VITIMAS   2.0   NaN     NaN   \n",
       "4                                        TAXI E AUTO   2.0   NaN     NaN   \n",
       "\n",
       "   ciclista  pedestre  onibus  caminhao  viatura  outros  vitimas  \\\n",
       "0       NaN       1.0     NaN       NaN      NaN     NaN      1.0   \n",
       "1       NaN       NaN     NaN       NaN      NaN     NaN      0.0   \n",
       "2       NaN       NaN     NaN       NaN      1.0     NaN      0.0   \n",
       "3       NaN       NaN     NaN       NaN      NaN     NaN      0.0   \n",
       "4       NaN       NaN     NaN       NaN      NaN     NaN      0.0   \n",
       "\n",
       "   vitimasfatais  \n",
       "0            NaN  \n",
       "1            NaN  \n",
       "2            NaN  \n",
       "3            NaN  \n",
       "4            NaN  "
      ]
     },
     "execution_count": 1654,
     "metadata": {},
     "output_type": "execute_result"
    }
   ],
   "source": [
    "# Criando uma lista com os rótulos das colunas para facilitar as estapas seguintes\n",
    "cols=acidentes_rec.loc[:,\"auto\":].columns.tolist()\n",
    "\n",
    "# Convertendo os valores das colunas em valores numéricos\n",
    "for i in cols:\n",
    "    acidentes_rec[i]=pd.to_numeric(acidentes_rec[i],errors=\"coerce\")\n",
    "acidentes_rec.head()"
   ]
  },
  {
   "cell_type": "markdown",
   "metadata": {},
   "source": [
    "## Conferindo os tipos de dados após as conversões aplicadas às colunas"
   ]
  },
  {
   "cell_type": "code",
   "execution_count": 1655,
   "metadata": {
    "colab_type": "text",
    "id": "dnvL987V3LsX"
   },
   "outputs": [
    {
     "data": {
      "text/plain": [
       "data_hora        datetime64[ns]\n",
       "tipo                   category\n",
       "situacao               category\n",
       "bairro                   object\n",
       "endereco                 object\n",
       "numero                   object\n",
       "complemento              object\n",
       "natureza                 object\n",
       "descricao                object\n",
       "auto                    float64\n",
       "moto                    float64\n",
       "ciclom                  float64\n",
       "ciclista                float64\n",
       "pedestre                float64\n",
       "onibus                  float64\n",
       "caminhao                float64\n",
       "viatura                 float64\n",
       "outros                  float64\n",
       "vitimas                 float64\n",
       "vitimasfatais           float64\n",
       "dtype: object"
      ]
     },
     "execution_count": 1655,
     "metadata": {},
     "output_type": "execute_result"
    }
   ],
   "source": [
    " acidentes_rec.dtypes"
   ]
  },
  {
   "cell_type": "markdown",
   "metadata": {
    "colab": {},
    "colab_type": "code",
    "id": "hLpaVdEeARsx"
   },
   "source": [
    "Como podemos ver, todas as colunas do dataset foram transformados para os tipos desejados.\n",
    "Agora vamos analisar os dados ausentes em `acidentes_rec`."
   ]
  },
  {
   "cell_type": "markdown",
   "metadata": {},
   "source": [
    "## 2.2 Tratamento dos dados ausentes\n",
    "Agora vamos visualizar o volume e a distribuição dos dados ausentes ao longo das colunas do nosso dataset, utilizando a função `heatmap` do Seaborn."
   ]
  },
  {
   "cell_type": "code",
   "execution_count": 1656,
   "metadata": {
    "colab": {},
    "colab_type": "code",
    "id": "tZ6iHpWv2Jwh"
   },
   "outputs": [
    {
     "data": {
      "image/png": "[encoded data removed]",
      "text/plain": [
       "<Figure size 1080x720 with 1 Axes>"
      ]
     },
     "metadata": {
      "needs_background": "light"
     },
     "output_type": "display_data"
    }
   ],
   "source": [
    "# Criando um heatmap para visualizar os dados ausentes do nosso dataset\n",
    "plt.figure(figsize=(15,10))\n",
    "sns.heatmap(acidentes_rec.isnull(),cbar=False)\n",
    "plt.show()"
   ]
  },
  {
   "cell_type": "markdown",
   "metadata": {},
   "source": [
    "Como podemos ver, nosso dataset possui uma grande quantidade de dados ausentes. \n",
    "Começaremos verificando se existem linhas completamente preenchidas por dados ausentes."
   ]
  },
  {
   "cell_type": "code",
   "execution_count": 1657,
   "metadata": {},
   "outputs": [
    {
     "data": {
      "text/html": [
       "<div>\n",
       "<style scoped>\n",
       "    .dataframe tbody tr th:only-of-type {\n",
       "        vertical-align: middle;\n",
       "    }\n",
       "\n",
       "    .dataframe tbody tr th {\n",
       "        vertical-align: top;\n",
       "    }\n",
       "\n",
       "    .dataframe thead th {\n",
       "        text-align: right;\n",
       "    }\n",
       "</style>\n",
       "<table border=\"1\" class=\"dataframe\">\n",
       "  <thead>\n",
       "    <tr style=\"text-align: right;\">\n",
       "      <th></th>\n",
       "      <th>data_hora</th>\n",
       "      <th>tipo</th>\n",
       "      <th>situacao</th>\n",
       "      <th>bairro</th>\n",
       "      <th>endereco</th>\n",
       "      <th>numero</th>\n",
       "      <th>complemento</th>\n",
       "      <th>natureza</th>\n",
       "      <th>descricao</th>\n",
       "      <th>auto</th>\n",
       "      <th>moto</th>\n",
       "      <th>ciclom</th>\n",
       "      <th>ciclista</th>\n",
       "      <th>pedestre</th>\n",
       "      <th>onibus</th>\n",
       "      <th>caminhao</th>\n",
       "      <th>viatura</th>\n",
       "      <th>outros</th>\n",
       "      <th>vitimas</th>\n",
       "      <th>vitimasfatais</th>\n",
       "    </tr>\n",
       "  </thead>\n",
       "  <tbody>\n",
       "  </tbody>\n",
       "</table>\n",
       "</div>"
      ],
      "text/plain": [
       "Empty DataFrame\n",
       "Columns: [data_hora, tipo, situacao, bairro, endereco, numero, complemento, natureza, descricao, auto, moto, ciclom, ciclista, pedestre, onibus, caminhao, viatura, outros, vitimas, vitimasfatais]\n",
       "Index: []"
      ]
     },
     "execution_count": 1657,
     "metadata": {},
     "output_type": "execute_result"
    }
   ],
   "source": [
    "# Verificando se há linhas em que todos os valores são NaN\n",
    "acidentes_rec[acidentes_rec.isna().all(1)]"
   ]
  },
  {
   "cell_type": "markdown",
   "metadata": {},
   "source": [
    "Como podemos ver, nenhuma linha do nosso dataset está completamente preenchida por `NaN`."
   ]
  },
  {
   "cell_type": "markdown",
   "metadata": {},
   "source": [
    "Agora, vamos analisar as colunas que possuem maior quantidade de dados ausentes.\n",
    "\n",
    "Veja no heatmap acima que as colunas `auto`, `moto`, `ciclom`,\t`ciclista`,\t`pedestre`,\t`onibus`, `caminhao`, `viatura`, `outros` são dominadas por `NaN`, mas isso não significa que sejam missing data. Provavelmente, a maioria dos  `NaN` nessas colunas indicam que o tipo de veículo que intitula a coluna não esteve envolvido no acidente. \n",
    "\n",
    "Dessa maneira, para essas colunas, vamos substituir os `NaN` por `0`. Esse procedimento tem o risco de substituir um missing data real por um valor irreal (`0`), mas se excluirmos todas as linhas com `NaN` perderemos um volume muito grande de dados.\n",
    "\n",
    "Note também que a coluna `vitimasfatais` é dominada por `NaN`. Isso é esperado porque a maioria dos acidentes de trânsito não resulta em acidentes fatais. Sendo assim, vamos também vamos substituir os `NaN` dessa coluna por `0`."
   ]
  },
  {
   "cell_type": "code",
   "execution_count": 1658,
   "metadata": {},
   "outputs": [
    {
     "data": {
      "text/html": [
       "<div>\n",
       "<style scoped>\n",
       "    .dataframe tbody tr th:only-of-type {\n",
       "        vertical-align: middle;\n",
       "    }\n",
       "\n",
       "    .dataframe tbody tr th {\n",
       "        vertical-align: top;\n",
       "    }\n",
       "\n",
       "    .dataframe thead th {\n",
       "        text-align: right;\n",
       "    }\n",
       "</style>\n",
       "<table border=\"1\" class=\"dataframe\">\n",
       "  <thead>\n",
       "    <tr style=\"text-align: right;\">\n",
       "      <th></th>\n",
       "      <th>data_hora</th>\n",
       "      <th>tipo</th>\n",
       "      <th>situacao</th>\n",
       "      <th>bairro</th>\n",
       "      <th>endereco</th>\n",
       "      <th>numero</th>\n",
       "      <th>complemento</th>\n",
       "      <th>natureza</th>\n",
       "      <th>descricao</th>\n",
       "      <th>auto</th>\n",
       "      <th>moto</th>\n",
       "      <th>ciclom</th>\n",
       "      <th>ciclista</th>\n",
       "      <th>pedestre</th>\n",
       "      <th>onibus</th>\n",
       "      <th>caminhao</th>\n",
       "      <th>viatura</th>\n",
       "      <th>outros</th>\n",
       "      <th>vitimas</th>\n",
       "      <th>vitimasfatais</th>\n",
       "    </tr>\n",
       "  </thead>\n",
       "  <tbody>\n",
       "    <tr>\n",
       "      <td>0</td>\n",
       "      <td>2018-01-01 00:01:00</td>\n",
       "      <td>ATROPELAMENTO</td>\n",
       "      <td>FINALIZADA</td>\n",
       "      <td>SÃO JOSÉ</td>\n",
       "      <td>AV ENGENHEIRO JOSE ESTELITA</td>\n",
       "      <td>NaN</td>\n",
       "      <td>EM FRENTE AO CAIS JOSE ESTELITA</td>\n",
       "      <td>ATROPELAMENTO</td>\n",
       "      <td>AUTO E PEDESTRE C/V</td>\n",
       "      <td>1.0</td>\n",
       "      <td>0.0</td>\n",
       "      <td>0.0</td>\n",
       "      <td>0.0</td>\n",
       "      <td>1.0</td>\n",
       "      <td>0.0</td>\n",
       "      <td>0.0</td>\n",
       "      <td>0.0</td>\n",
       "      <td>0.0</td>\n",
       "      <td>1.0</td>\n",
       "      <td>0.0</td>\n",
       "    </tr>\n",
       "    <tr>\n",
       "      <td>1</td>\n",
       "      <td>2018-01-01 02:45:00</td>\n",
       "      <td>COLISÃO</td>\n",
       "      <td>CANCELADA</td>\n",
       "      <td>CORDEIRO</td>\n",
       "      <td>AV CAXANGA</td>\n",
       "      <td>NaN</td>\n",
       "      <td>PROX DO GALETOS, EM FRENTE AO PARQUE DE EXPOSI...</td>\n",
       "      <td>COLISÃO</td>\n",
       "      <td>COLISÃO ENTRE AUTO E MO S/V</td>\n",
       "      <td>1.0</td>\n",
       "      <td>1.0</td>\n",
       "      <td>0.0</td>\n",
       "      <td>0.0</td>\n",
       "      <td>0.0</td>\n",
       "      <td>0.0</td>\n",
       "      <td>0.0</td>\n",
       "      <td>0.0</td>\n",
       "      <td>0.0</td>\n",
       "      <td>0.0</td>\n",
       "      <td>0.0</td>\n",
       "    </tr>\n",
       "    <tr>\n",
       "      <td>2</td>\n",
       "      <td>2018-01-01 03:33:00</td>\n",
       "      <td>COLISÃO</td>\n",
       "      <td>CANCELADA</td>\n",
       "      <td>BOA VIAGEM</td>\n",
       "      <td>AV CONSELHEIRO AGUIAR</td>\n",
       "      <td>NaN</td>\n",
       "      <td>PROX DO BANCO DO BRASIL, PROX DO BANCO ITAÚ</td>\n",
       "      <td>COLISÃO</td>\n",
       "      <td>COLISÃO ENTRE UM AUTO(TAXI) E VIATURA DA AERON...</td>\n",
       "      <td>1.0</td>\n",
       "      <td>0.0</td>\n",
       "      <td>0.0</td>\n",
       "      <td>0.0</td>\n",
       "      <td>0.0</td>\n",
       "      <td>0.0</td>\n",
       "      <td>0.0</td>\n",
       "      <td>1.0</td>\n",
       "      <td>0.0</td>\n",
       "      <td>0.0</td>\n",
       "      <td>0.0</td>\n",
       "    </tr>\n",
       "    <tr>\n",
       "      <td>3</td>\n",
       "      <td>2018-01-01 07:13:00</td>\n",
       "      <td>COLISÃO</td>\n",
       "      <td>FINALIZADA</td>\n",
       "      <td>BAIRRO DO RECIFE</td>\n",
       "      <td>AV ALFREDO LISBOA</td>\n",
       "      <td>NaN</td>\n",
       "      <td>PROX  AO POSTO  DE GASOLINA  BR   AO LADO  DO ...</td>\n",
       "      <td>COLISÃO</td>\n",
       "      <td>COLISÃO  SEM  VITIMAS</td>\n",
       "      <td>2.0</td>\n",
       "      <td>0.0</td>\n",
       "      <td>0.0</td>\n",
       "      <td>0.0</td>\n",
       "      <td>0.0</td>\n",
       "      <td>0.0</td>\n",
       "      <td>0.0</td>\n",
       "      <td>0.0</td>\n",
       "      <td>0.0</td>\n",
       "      <td>0.0</td>\n",
       "      <td>0.0</td>\n",
       "    </tr>\n",
       "    <tr>\n",
       "      <td>4</td>\n",
       "      <td>2018-01-01 07:50:00</td>\n",
       "      <td>COLISÃO</td>\n",
       "      <td>FINALIZADA</td>\n",
       "      <td>CASA AMARELA</td>\n",
       "      <td>RUA PADRE LEMOS</td>\n",
       "      <td>767</td>\n",
       "      <td>EM FRENTE AO POSTO PETROBRAS</td>\n",
       "      <td>COLISÃO</td>\n",
       "      <td>TAXI E AUTO</td>\n",
       "      <td>2.0</td>\n",
       "      <td>0.0</td>\n",
       "      <td>0.0</td>\n",
       "      <td>0.0</td>\n",
       "      <td>0.0</td>\n",
       "      <td>0.0</td>\n",
       "      <td>0.0</td>\n",
       "      <td>0.0</td>\n",
       "      <td>0.0</td>\n",
       "      <td>0.0</td>\n",
       "      <td>0.0</td>\n",
       "    </tr>\n",
       "  </tbody>\n",
       "</table>\n",
       "</div>"
      ],
      "text/plain": [
       "            data_hora           tipo    situacao            bairro  \\\n",
       "0 2018-01-01 00:01:00  ATROPELAMENTO  FINALIZADA          SÃO JOSÉ   \n",
       "1 2018-01-01 02:45:00        COLISÃO   CANCELADA          CORDEIRO   \n",
       "2 2018-01-01 03:33:00        COLISÃO   CANCELADA        BOA VIAGEM   \n",
       "3 2018-01-01 07:13:00        COLISÃO  FINALIZADA  BAIRRO DO RECIFE   \n",
       "4 2018-01-01 07:50:00        COLISÃO  FINALIZADA      CASA AMARELA   \n",
       "\n",
       "                      endereco numero  \\\n",
       "0  AV ENGENHEIRO JOSE ESTELITA    NaN   \n",
       "1                   AV CAXANGA    NaN   \n",
       "2        AV CONSELHEIRO AGUIAR    NaN   \n",
       "3            AV ALFREDO LISBOA    NaN   \n",
       "4              RUA PADRE LEMOS    767   \n",
       "\n",
       "                                         complemento       natureza  \\\n",
       "0                    EM FRENTE AO CAIS JOSE ESTELITA  ATROPELAMENTO   \n",
       "1  PROX DO GALETOS, EM FRENTE AO PARQUE DE EXPOSI...        COLISÃO   \n",
       "2        PROX DO BANCO DO BRASIL, PROX DO BANCO ITAÚ        COLISÃO   \n",
       "3  PROX  AO POSTO  DE GASOLINA  BR   AO LADO  DO ...        COLISÃO   \n",
       "4                       EM FRENTE AO POSTO PETROBRAS        COLISÃO   \n",
       "\n",
       "                                           descricao  auto  moto  ciclom  \\\n",
       "0                                AUTO E PEDESTRE C/V   1.0   0.0     0.0   \n",
       "1                        COLISÃO ENTRE AUTO E MO S/V   1.0   1.0     0.0   \n",
       "2  COLISÃO ENTRE UM AUTO(TAXI) E VIATURA DA AERON...   1.0   0.0     0.0   \n",
       "3                              COLISÃO  SEM  VITIMAS   2.0   0.0     0.0   \n",
       "4                                        TAXI E AUTO   2.0   0.0     0.0   \n",
       "\n",
       "   ciclista  pedestre  onibus  caminhao  viatura  outros  vitimas  \\\n",
       "0       0.0       1.0     0.0       0.0      0.0     0.0      1.0   \n",
       "1       0.0       0.0     0.0       0.0      0.0     0.0      0.0   \n",
       "2       0.0       0.0     0.0       0.0      1.0     0.0      0.0   \n",
       "3       0.0       0.0     0.0       0.0      0.0     0.0      0.0   \n",
       "4       0.0       0.0     0.0       0.0      0.0     0.0      0.0   \n",
       "\n",
       "   vitimasfatais  \n",
       "0            0.0  \n",
       "1            0.0  \n",
       "2            0.0  \n",
       "3            0.0  \n",
       "4            0.0  "
      ]
     },
     "execution_count": 1658,
     "metadata": {},
     "output_type": "execute_result"
    }
   ],
   "source": [
    "# Substituindo os NaNs por zeros\n",
    "cols=acidentes_rec.iloc[:,np.r_[9:18,-1]].columns.tolist()\n",
    "acidentes_rec[cols]=acidentes_rec[cols].fillna(0)\n",
    "acidentes_rec.head()"
   ]
  },
  {
   "cell_type": "markdown",
   "metadata": {},
   "source": [
    "Vamos visualizar novamente as distribuição dos dados ausentes ao longo do nosso dataset."
   ]
  },
  {
   "cell_type": "code",
   "execution_count": 1659,
   "metadata": {},
   "outputs": [
    {
     "data": {
      "image/png": "[encoded data removed]",
      "text/plain": [
       "<Figure size 1080x720 with 1 Axes>"
      ]
     },
     "metadata": {
      "needs_background": "light"
     },
     "output_type": "display_data"
    }
   ],
   "source": [
    "# Criando um heatmap para visualizar os dados ausentes do nosso dataset\n",
    "plt.figure(figsize=(15,10))\n",
    "sns.heatmap(acidentes_rec.isnull(),cbar=False)\n",
    "plt.show()"
   ]
  },
  {
   "cell_type": "markdown",
   "metadata": {},
   "source": [
    "Agora que resolvemos os dados ausentes das colunas dominadas por eles, vamos olhar mais detalhamente para os dados ausentes das demais colunas de `acidentes_rec`."
   ]
  },
  {
   "cell_type": "code",
   "execution_count": 1660,
   "metadata": {},
   "outputs": [
    {
     "data": {
      "text/plain": [
       "data_hora          15\n",
       "tipo               42\n",
       "situacao            1\n",
       "bairro             26\n",
       "endereco           18\n",
       "numero           6037\n",
       "complemento       437\n",
       "natureza           42\n",
       "descricao         227\n",
       "auto                0\n",
       "moto                0\n",
       "ciclom              0\n",
       "ciclista            0\n",
       "pedestre            0\n",
       "onibus              0\n",
       "caminhao            0\n",
       "viatura             0\n",
       "outros              0\n",
       "vitimas            14\n",
       "vitimasfatais       0\n",
       "dtype: int64"
      ]
     },
     "execution_count": 1660,
     "metadata": {},
     "output_type": "execute_result"
    }
   ],
   "source": [
    "# Contando os NaNs por coluna\n",
    "acidentes_rec.isna().sum()"
   ]
  },
  {
   "cell_type": "markdown",
   "metadata": {},
   "source": [
    "Como podemos ver, ainda existem colunas com grandes quantidades de `NaN`. \n",
    "\n",
    "A coluna `data_hora` possui 15 linhas com dados ausentes. Mais adiante, vamos investigar quais horários possuem maior frequência de acidentes. Portanto, ocorrências de acidentes cujos registros de data e hora foram perdidos não servem para as análises que conduzieremos mais adiante.\n",
    "\n",
    "Vamos exlcuir do nosso dataset as linhas com `NaN` na coluna `data_hora`."
   ]
  },
  {
   "cell_type": "code",
   "execution_count": 1661,
   "metadata": {},
   "outputs": [
    {
     "data": {
      "text/plain": [
       "data_hora           0\n",
       "tipo               41\n",
       "situacao            1\n",
       "bairro             26\n",
       "endereco           18\n",
       "numero           6028\n",
       "complemento       436\n",
       "natureza           41\n",
       "descricao         226\n",
       "auto                0\n",
       "moto                0\n",
       "ciclom              0\n",
       "ciclista            0\n",
       "pedestre            0\n",
       "onibus              0\n",
       "caminhao            0\n",
       "viatura             0\n",
       "outros              0\n",
       "vitimas            14\n",
       "vitimasfatais       0\n",
       "dtype: int64"
      ]
     },
     "execution_count": 1661,
     "metadata": {},
     "output_type": "execute_result"
    }
   ],
   "source": [
    "# Excluindo as linhas do dataset que não possuem informação de data e hora\n",
    "linhas_excluir=acidentes_rec.data_hora.dropna(axis=0).index\n",
    "acidentes_rec=acidentes_rec.iloc[linhas_excluir,:]\n",
    "acidentes_rec.isna().sum()"
   ]
  },
  {
   "cell_type": "markdown",
   "metadata": {},
   "source": [
    "### Imputando os dados da coluna tipo com a moda\n",
    "Agora vamos analisar a coluna `tipo`. Note acima que existem 41 `NaN` nesta coluna.\n",
    "\n",
    "Vamos subsituir os dados ausentes da coluna `tipo` com a sua moda, i.e., com o seu valor mais frequente.\n",
    "\n",
    "Note que tomar essa decisão para tratar dos dados ausentes de uma coluna é apenas uma possibilidade. Outra possibilidade seria simplestmente eliminar as linhas do dataset para as quais houvesse dados ausentes nessa coluna.\n",
    "\n",
    "Entretanto, para fins de aprendizado, imputaremos os dados ausentes da coluna `tipo` com sua moda."
   ]
  },
  {
   "cell_type": "code",
   "execution_count": 1662,
   "metadata": {},
   "outputs": [
    {
     "data": {
      "text/plain": [
       "0    COLISÃO\n",
       "Name: tipo, dtype: category\n",
       "Categories (17, object): [0, ABALROAMENTO LONGITUDINAL, ABALROAMENTO TRANSVERSAL, ACID. DE PERCURSO, ..., COLISÃO TRASEIRA, ENGAVETAMENTO, QUEDA DE ÁRVORE, TOMBAMENTO]"
      ]
     },
     "execution_count": 1662,
     "metadata": {},
     "output_type": "execute_result"
    }
   ],
   "source": [
    "# Obtendo a moda da coluna tipo\n",
    "acidentes_rec.tipo.mode()"
   ]
  },
  {
   "cell_type": "markdown",
   "metadata": {},
   "source": [
    "Como podemos ver, `COLISAO` é a moda da coluna `tipo`.\n",
    "\n",
    "Vamos ver o quão mais frequente `COLISAO` é em relação às demais categorias nesta coluna."
   ]
  },
  {
   "cell_type": "code",
   "execution_count": 1663,
   "metadata": {},
   "outputs": [
    {
     "data": {
      "text/plain": [
       "COLISÃO                      8592\n",
       "ABALROAMENTO LONGITUDINAL     704\n",
       "COLISÃO TRASEIRA              524\n",
       "ABALROAMENTO TRANSVERSAL      380\n",
       "ATROPELAMENTO                 212\n",
       "CHOQUE                        196\n",
       "ENGAVETAMENTO                 172\n",
       "COLISÃO COM CICLISTA          163\n",
       "CHOQUE VEÍCULO PARADO          78\n",
       "ACID. DE PERCURSO              60\n",
       "COLISÃO FRONTAL                49\n",
       "CHOQUE OBJETO FIXO             38\n",
       "CAPOTAMENTO                    22\n",
       "QUEDA DE ÁRVORE                21\n",
       "TOMBAMENTO                      7\n",
       "ATROPELAMENTO ANIMAL            7\n",
       "0                               1\n",
       "Name: tipo, dtype: int64"
      ]
     },
     "execution_count": 1663,
     "metadata": {},
     "output_type": "execute_result"
    }
   ],
   "source": [
    "# Comparando a frequência da categoria COLISAO em relação às demais categorias de acidentes presentes na coluna tipo\n",
    "acidentes_rec.tipo.value_counts()"
   ]
  },
  {
   "cell_type": "markdown",
   "metadata": {},
   "source": [
    "Como podemos ver, a categoria `COLISAO` é muito mais frequente que as demais categorias de acidentes da coluna `tipo`.\n",
    "\n",
    "Vamos imputar as linhas da coluna `tipo` que possuem `NaN` com a moda desta coluna, que é a categoria `COLISAO`. "
   ]
  },
  {
   "cell_type": "code",
   "execution_count": 1664,
   "metadata": {},
   "outputs": [
    {
     "name": "stdout",
     "output_type": "stream",
     "text": [
      "Quantidade de dados ausentes na coluna tipo:  0\n"
     ]
    }
   ],
   "source": [
    "# Impuntando os dados ausentes na coluna tipo com a categoria COLISAO\n",
    "acidentes_rec.tipo=acidentes_rec.tipo.fillna(\"COLISÃO\")\n",
    "print(\"Quantidade de dados ausentes na coluna tipo: \",acidentes_rec.tipo.isna().sum())"
   ]
  },
  {
   "cell_type": "markdown",
   "metadata": {},
   "source": [
    "Note na tabela acima de valores únicos da coluna `tipo` que existe um categoria de acidente denominada `0`. Isto é uma erro. Vamos substituir o valor dessa linha também pela moda `COLISÃO`."
   ]
  },
  {
   "cell_type": "code",
   "execution_count": 1665,
   "metadata": {},
   "outputs": [
    {
     "data": {
      "text/plain": [
       "COLISÃO                      8634\n",
       "ABALROAMENTO LONGITUDINAL     704\n",
       "COLISÃO TRASEIRA              524\n",
       "ABALROAMENTO TRANSVERSAL      380\n",
       "ATROPELAMENTO                 212\n",
       "CHOQUE                        196\n",
       "ENGAVETAMENTO                 172\n",
       "COLISÃO COM CICLISTA          163\n",
       "CHOQUE VEÍCULO PARADO          78\n",
       "ACID. DE PERCURSO              60\n",
       "COLISÃO FRONTAL                49\n",
       "CHOQUE OBJETO FIXO             38\n",
       "CAPOTAMENTO                    22\n",
       "QUEDA DE ÁRVORE                21\n",
       "TOMBAMENTO                      7\n",
       "ATROPELAMENTO ANIMAL            7\n",
       "Name: tipo, dtype: int64"
      ]
     },
     "execution_count": 1665,
     "metadata": {},
     "output_type": "execute_result"
    }
   ],
   "source": [
    "# Substituindo zero por COLISÃO na coluna tipo\n",
    "acidentes_rec.tipo=acidentes_rec.tipo.str.replace(\"0\",\"COLISÃO\")\n",
    "acidentes_rec.tipo.value_counts()"
   ]
  },
  {
   "cell_type": "markdown",
   "metadata": {},
   "source": [
    "### Excluindo dados ausentes na coluna `situacao`\n",
    "\n",
    "Note abaixo que a coluna `situacao` possui apenas um dados ausente."
   ]
  },
  {
   "cell_type": "code",
   "execution_count": 1666,
   "metadata": {},
   "outputs": [
    {
     "name": "stdout",
     "output_type": "stream",
     "text": [
      "Número de dados ausentes na coluna 'situação': 1\n"
     ]
    }
   ],
   "source": [
    "# Observando os dados ausentes na coluna situacao\n",
    "print(\"Número de dados ausentes na coluna 'situação':\",acidentes_rec.situacao.isna().sum())"
   ]
  },
  {
   "cell_type": "markdown",
   "metadata": {},
   "source": [
    "Como existe apenas um dado ausente neste coluna, podemos simplesmente excluir do dataset a linha em que esse dado ausente se encontra."
   ]
  },
  {
   "cell_type": "code",
   "execution_count": 1667,
   "metadata": {},
   "outputs": [],
   "source": [
    "# Excluindo a linha com dado ausente na coluna situacao\n",
    "acidentes_rec=acidentes_rec.loc[acidentes_rec.situacao.dropna(axis=0).index,:]"
   ]
  },
  {
   "cell_type": "markdown",
   "metadata": {},
   "source": [
    "### Tratando os dados ausentes das colunas referentes aos locais dos acidentes\n",
    "Agora vamos tratar os dados ausentes das colunas que contêm informações acerca dos locais onde os acidentes ocorreram. Estas informações estão contidas nas colunas `bairro`, `endereco`, `numero` e `complemento`."
   ]
  },
  {
   "cell_type": "code",
   "execution_count": 1668,
   "metadata": {},
   "outputs": [
    {
     "name": "stdout",
     "output_type": "stream",
     "text": [
      "BOA VIAGEM             1379\n",
      "IMBIRIBEIRA             696\n",
      "AFOGADOS                488\n",
      "SANTO AMARO             482\n",
      "MADALENA                462\n",
      "                       ... \n",
      "BREJO DE BEBERIBE         2\n",
      "CÓRREGO DO JENIPAPO       2\n",
      "POÇO DA PANELA            1\n",
      "PONTO DE PARADA           1\n",
      "IPESEP                    1\n",
      "Name: bairro, Length: 94, dtype: int64 \n",
      "\n",
      "AV GOVERNADOR AGAMENON MAGALHAES     464\n",
      "AV MARECHAL MASCARENHAS DE MORAES    455\n",
      "AV RECIFE                            360\n",
      "AV CAXANGA                           323\n",
      "AV NORTE                             321\n",
      "                                    ... \n",
      "RUA DOS ARTISTAS                       1\n",
      "RUA DONA LEONOR PORTO                  1\n",
      "RUA SANTA RITA                         1\n",
      "RUA EDSON ALVARES                      1\n",
      "RUA AUREO XAVIER                       1\n",
      "Name: endereco, Length: 1350, dtype: int64 \n",
      "\n",
      "S/N     84\n",
      "100     24\n",
      "500     20\n",
      "50      18\n",
      "150     18\n",
      "        ..\n",
      "39 A     1\n",
      "689      1\n",
      "4989     1\n",
      "649      1\n",
      "5312     1\n",
      "Name: numero, Length: 1927, dtype: int64 \n",
      "\n",
      "EM FRENTE AO POSTO BR                                                 14\n",
      "EM FRENTE AO POSTO IPIRANGA                                            8\n",
      "EM FRENTE AO WALMART                                                   7\n",
      "EM FRENTE AO BOMPREÇO                                                  7\n",
      "EM FRENTE A ACADEMIA DA CIDADE                                         6\n",
      "                                                                      ..\n",
      "EM FRENTE AO MAKRO/ SENTIDO BR                                         1\n",
      "SEMÁFORO 541                                                           1\n",
      "COM A RUA BRUNO MAIA   /   POR TRAS DA PIZZARIA ATLANTICO              1\n",
      "SEMAFORO 068  /  SENT OLINDA / EM FRENTE AO ITAU                       1\n",
      "NO RETORNO QUE VAI PARA O IBURA  // POR TRAS DA HONDA DA AV RECIFE     1\n",
      "Name: complemento, Length: 10356, dtype: int64\n"
     ]
    }
   ],
   "source": [
    "print(acidentes_rec.bairro.value_counts(),\"\\n\")\n",
    "print(acidentes_rec.endereco.value_counts(),\"\\n\")\n",
    "print(acidentes_rec.numero.value_counts(),\"\\n\")\n",
    "print(acidentes_rec.complemento.value_counts())"
   ]
  },
  {
   "cell_type": "markdown",
   "metadata": {},
   "source": [
    "Como veremos mais adiante, o que nos interessa saber quanto à localização dos acidentes são os bairros e as vias em que os acidentes ocorreram. Estas informações estão nas colunas `bairro` e `endereco`, respectivamente. Portanto vamos excluir as colunas `numero` e `complemento` do nosso dataset."
   ]
  },
  {
   "cell_type": "code",
   "execution_count": 1669,
   "metadata": {},
   "outputs": [
    {
     "data": {
      "text/plain": [
       "['data_hora',\n",
       " 'tipo',\n",
       " 'situacao',\n",
       " 'bairro',\n",
       " 'endereco',\n",
       " 'natureza',\n",
       " 'descricao',\n",
       " 'auto',\n",
       " 'moto',\n",
       " 'ciclom',\n",
       " 'ciclista',\n",
       " 'pedestre',\n",
       " 'onibus',\n",
       " 'caminhao',\n",
       " 'viatura',\n",
       " 'outros',\n",
       " 'vitimas',\n",
       " 'vitimasfatais']"
      ]
     },
     "execution_count": 1669,
     "metadata": {},
     "output_type": "execute_result"
    }
   ],
   "source": [
    "# Excluindo as colunas numero e complemento do dataset\n",
    "acidentes_rec.drop(columns=[\"numero\",\"complemento\"],inplace=True)\n",
    "acidentes_rec.columns.tolist()"
   ]
  },
  {
   "cell_type": "markdown",
   "metadata": {},
   "source": [
    "Agora olhemos para a quantidade de dados ausentes nas colunas `bairro` e `endereco`."
   ]
  },
  {
   "cell_type": "code",
   "execution_count": 1670,
   "metadata": {},
   "outputs": [
    {
     "name": "stdout",
     "output_type": "stream",
     "text": [
      "Quantidade de dados ausentes na coluna 'bairro':  26\n",
      "Quantidade de dados ausentes na coluna 'endereco':  18\n"
     ]
    }
   ],
   "source": [
    "print(\"Quantidade de dados ausentes na coluna 'bairro': \",acidentes_rec.bairro.isna().sum())\n",
    "print(\"Quantidade de dados ausentes na coluna 'endereco': \",acidentes_rec.endereco.isna().sum())"
   ]
  },
  {
   "cell_type": "markdown",
   "metadata": {},
   "source": [
    "Vamos exlcuir do nosso dataset todas as linhas que possuem dados ausentes nas colunas `bairro` ou `endereco`. \n",
    "\n",
    "Note que essa decisão é arbitrária e que poderíamos, por exemplo, optar por imputar os dados ausentes dessas colunas com suas respectivas modas, assim como fizemos para a coluna `tipo`."
   ]
  },
  {
   "cell_type": "code",
   "execution_count": 1671,
   "metadata": {},
   "outputs": [
    {
     "data": {
      "text/plain": [
       "data_hora          0\n",
       "tipo               0\n",
       "situacao           0\n",
       "bairro             0\n",
       "endereco           0\n",
       "natureza          38\n",
       "descricao        220\n",
       "auto               0\n",
       "moto               0\n",
       "ciclom             0\n",
       "ciclista           0\n",
       "pedestre           0\n",
       "onibus             0\n",
       "caminhao           0\n",
       "viatura            0\n",
       "outros             0\n",
       "vitimas           14\n",
       "vitimasfatais      0\n",
       "dtype: int64"
      ]
     },
     "execution_count": 1671,
     "metadata": {},
     "output_type": "execute_result"
    }
   ],
   "source": [
    "# Removendo as linhas com dados ausentes nas colunas bairro ou endereco\n",
    "acidentes_rec=acidentes_rec.loc[acidentes_rec.bairro.dropna(axis=0).index,:]\n",
    "acidentes_rec=acidentes_rec.loc[acidentes_rec.endereco.dropna(axis=0).index,:]\n",
    "acidentes_rec.isna().sum()"
   ]
  },
  {
   "cell_type": "markdown",
   "metadata": {},
   "source": [
    "### Excluindo coluna duplicada\n",
    "\n",
    "Observemos as colunas `tipo` e `natureza`."
   ]
  },
  {
   "cell_type": "code",
   "execution_count": 1672,
   "metadata": {},
   "outputs": [
    {
     "name": "stdout",
     "output_type": "stream",
     "text": [
      "Valores únicos da coluna 'tipo'\n",
      " COLISÃO                      8614\n",
      "ABALROAMENTO LONGITUDINAL     699\n",
      "COLISÃO TRASEIRA              515\n",
      "ABALROAMENTO TRANSVERSAL      377\n",
      "ATROPELAMENTO                 212\n",
      "CHOQUE                        196\n",
      "ENGAVETAMENTO                 172\n",
      "COLISÃO COM CICLISTA          163\n",
      "CHOQUE VEÍCULO PARADO          77\n",
      "ACID. DE PERCURSO              57\n",
      "COLISÃO FRONTAL                49\n",
      "CHOQUE OBJETO FIXO             38\n",
      "CAPOTAMENTO                    22\n",
      "QUEDA DE ÁRVORE                21\n",
      "ATROPELAMENTO ANIMAL            7\n",
      "TOMBAMENTO                      6\n",
      "Name: tipo, dtype: int64 \n",
      "\n",
      "Valores únicos da coluna 'natureza'\n",
      " COLISÃO                      8575\n",
      "ABALROAMENTO LONGITUDINAL     699\n",
      "COLISÃO TRASEIRA              515\n",
      "ABALROAMENTO TRANSVERSAL      377\n",
      "ATROPELAMENTO                 212\n",
      "CHOQUE                        196\n",
      "ENGAVETAMENTO                 172\n",
      "COLISÃO COM CICLISTA          163\n",
      "CHOQUE VEÍCULO PARADO          77\n",
      "ACID. DE PERCURSO              57\n",
      "COLISÃO FRONTAL                49\n",
      "CHOQUE OBJETO FIXO             38\n",
      "CAPOTAMENTO                    22\n",
      "QUEDA DE ÁRVORE                21\n",
      "ATROPELAMENTO ANIMAL            7\n",
      "TOMBAMENTO                      6\n",
      "0                               1\n",
      "Name: natureza, dtype: int64\n"
     ]
    }
   ],
   "source": [
    "print(\"Valores únicos da coluna 'tipo'\\n\",acidentes_rec.tipo.value_counts(), \"\\n\")\n",
    "print(\"Valores únicos da coluna 'natureza'\\n\",acidentes_rec.natureza.value_counts())      "
   ]
  },
  {
   "cell_type": "markdown",
   "metadata": {},
   "source": [
    "Note que os valores únicos das colunas `tipo` e `natureza` são os mesmos. Lembre que já tratamos a coluna `tipo`, substuindo seus dados ausentes e o valor `0` pela moda `COLISÃO`. Por isso, a frequência de `COLISÃO` é diferente entre estas colunas.\n",
    "\n",
    "Já que as colunas `tipo` e `natureza` são idênticas e por já termos tratado os dados ausentes da coluna `tipo`, vamos excluir a coluna `natureza`."
   ]
  },
  {
   "cell_type": "code",
   "execution_count": 1673,
   "metadata": {},
   "outputs": [
    {
     "data": {
      "text/plain": [
       "['data_hora',\n",
       " 'tipo',\n",
       " 'situacao',\n",
       " 'bairro',\n",
       " 'endereco',\n",
       " 'descricao',\n",
       " 'auto',\n",
       " 'moto',\n",
       " 'ciclom',\n",
       " 'ciclista',\n",
       " 'pedestre',\n",
       " 'onibus',\n",
       " 'caminhao',\n",
       " 'viatura',\n",
       " 'outros',\n",
       " 'vitimas',\n",
       " 'vitimasfatais']"
      ]
     },
     "execution_count": 1673,
     "metadata": {},
     "output_type": "execute_result"
    }
   ],
   "source": [
    "# Excluindo a coluna natureza\n",
    "acidentes_rec=acidentes_rec.drop(columns=\"natureza\")\n",
    "acidentes_rec.columns.tolist()"
   ]
  },
  {
   "cell_type": "markdown",
   "metadata": {},
   "source": [
    "### Cruzando informações das colunas `descricao` e `vitimasfatais` para imputar os dados ausentes da coluna `vitimas` \n",
    "Note abaixo que apenas as colunas `descricao` e `vitimas` ainda possuem dados ausentes."
   ]
  },
  {
   "cell_type": "code",
   "execution_count": 1674,
   "metadata": {},
   "outputs": [
    {
     "data": {
      "text/plain": [
       "data_hora          0\n",
       "tipo               0\n",
       "situacao           0\n",
       "bairro             0\n",
       "endereco           0\n",
       "descricao        220\n",
       "auto               0\n",
       "moto               0\n",
       "ciclom             0\n",
       "ciclista           0\n",
       "pedestre           0\n",
       "onibus             0\n",
       "caminhao           0\n",
       "viatura            0\n",
       "outros             0\n",
       "vitimas           14\n",
       "vitimasfatais      0\n",
       "dtype: int64"
      ]
     },
     "execution_count": 1674,
     "metadata": {},
     "output_type": "execute_result"
    }
   ],
   "source": [
    "acidentes_rec.isna().sum()"
   ]
  },
  {
   "cell_type": "markdown",
   "metadata": {},
   "source": [
    "Vamos analisar primeiro apenas a coluna decisão."
   ]
  },
  {
   "cell_type": "code",
   "execution_count": 1675,
   "metadata": {},
   "outputs": [
    {
     "name": "stdout",
     "output_type": "stream",
     "text": [
      "Valores únicos da coluna 'descricao':\n",
      "\n",
      " COLISÃO SEM VÍTIMA                                 895\n",
      "DOIS AUTOS                                         649\n",
      "COLISÃO SEM VITIMAS                                597\n",
      "SEM VITIMAS                                        538\n",
      "SEM VÍTIMAS                                        359\n",
      "                                                  ... \n",
      "ENTRE ÕNIBUS E VAN ESCOLAR. S/V                      1\n",
      "ONIBUS E DUAS MOTOS C/V                              1\n",
      "COLISAO ENTRE TRASPORTE COMPLEMENTAR E AUTO S/V      1\n",
      "VEÍCULO CHOCOU-SE CONTRA O MURO DO PORTO             1\n",
      "AUTO SE CHOCOU CONTRA O MURO DE UM PRÉDIO. C/V       1\n",
      "Name: descricao, Length: 3245, dtype: int64 \n",
      "\n",
      "Número de valores únicos da coluna 'descricao': 3245\n"
     ]
    }
   ],
   "source": [
    "print(\"Valores únicos da coluna 'descricao':\\n\\n\",acidentes_rec.descricao.value_counts(),\"\\n\")\n",
    "print(\"Número de valores únicos da coluna 'descricao':\",acidentes_rec.descricao.value_counts().shape[0])"
   ]
  },
  {
   "cell_type": "markdown",
   "metadata": {},
   "source": [
    "Note acima que a coluna `descricao` traz detalhes dos acidentes de trânsitos registrados em Recife durante o ano de 2018.\n",
    "\n",
    "Ao todo, esta coluna possui 220 dados ausentes e 3245 valores únicos. O grande número de valores únicos nesta coluna a torna extremante complexa de ser analisada. Portanto, uma vez que que o foco desta disciplina não é o processamento de dados não estruturados, vamos excluir esta coluna.\n",
    "\n",
    "Entretanto, antes de excluir a coluna `descricao`, vamos utilizá-la, juntamente com a coluna `vitimasfatais`, para imputar dados ausentes na coluna `vitimas`.\n",
    "\n",
    "Note que a coluna `descricao` frequentemente informa se houve vítimas nos acidentes. Além disso, a coluna `vitimasfatais` informa se houve vítimas fatais nos acidentes. Portanto, podemos utilizar estas duas colunas para imputar dados ausentes na coluna `descricao`."
   ]
  },
  {
   "cell_type": "code",
   "execution_count": 1676,
   "metadata": {},
   "outputs": [
    {
     "data": {
      "text/html": [
       "<div>\n",
       "<style scoped>\n",
       "    .dataframe tbody tr th:only-of-type {\n",
       "        vertical-align: middle;\n",
       "    }\n",
       "\n",
       "    .dataframe tbody tr th {\n",
       "        vertical-align: top;\n",
       "    }\n",
       "\n",
       "    .dataframe thead th {\n",
       "        text-align: right;\n",
       "    }\n",
       "</style>\n",
       "<table border=\"1\" class=\"dataframe\">\n",
       "  <thead>\n",
       "    <tr style=\"text-align: right;\">\n",
       "      <th></th>\n",
       "      <th>descricao</th>\n",
       "      <th>vitimas</th>\n",
       "      <th>vitimasfatais</th>\n",
       "    </tr>\n",
       "  </thead>\n",
       "  <tbody>\n",
       "    <tr>\n",
       "      <td>303</td>\n",
       "      <td>MOTOCICLISTA BATEU NA MURETA  E CAIU SOB VIADUTO</td>\n",
       "      <td>NaN</td>\n",
       "      <td>1.0</td>\n",
       "    </tr>\n",
       "    <tr>\n",
       "      <td>1882</td>\n",
       "      <td>COLISÃO SEM VÍTIMA</td>\n",
       "      <td>NaN</td>\n",
       "      <td>0.0</td>\n",
       "    </tr>\n",
       "    <tr>\n",
       "      <td>1939</td>\n",
       "      <td>COLISÃO ENTRE CAMINHÃO E MOTO C/V</td>\n",
       "      <td>NaN</td>\n",
       "      <td>1.0</td>\n",
       "    </tr>\n",
       "    <tr>\n",
       "      <td>1968</td>\n",
       "      <td>ATROPELAMENTO ENTRE ONIBUS E PEDESTRE</td>\n",
       "      <td>NaN</td>\n",
       "      <td>1.0</td>\n",
       "    </tr>\n",
       "    <tr>\n",
       "      <td>3356</td>\n",
       "      <td>ATROPELAMENTO ÔNIBUS E PEDESTRE</td>\n",
       "      <td>NaN</td>\n",
       "      <td>1.0</td>\n",
       "    </tr>\n",
       "    <tr>\n",
       "      <td>4656</td>\n",
       "      <td>ENTRE ÔNIBUS E PEDESTRE. C/VF</td>\n",
       "      <td>NaN</td>\n",
       "      <td>1.0</td>\n",
       "    </tr>\n",
       "    <tr>\n",
       "      <td>5681</td>\n",
       "      <td>SEGUNDO As INFORMAÇÕES DO SD, O VEÍCULO EM QUE...</td>\n",
       "      <td>NaN</td>\n",
       "      <td>1.0</td>\n",
       "    </tr>\n",
       "    <tr>\n",
       "      <td>6128</td>\n",
       "      <td>CAMINHÃO E MOTO</td>\n",
       "      <td>NaN</td>\n",
       "      <td>1.0</td>\n",
       "    </tr>\n",
       "    <tr>\n",
       "      <td>6580</td>\n",
       "      <td>FNJ3382 CHEVROLET SPIN /  KMW9617 FIAT UNO</td>\n",
       "      <td>NaN</td>\n",
       "      <td>0.0</td>\n",
       "    </tr>\n",
       "    <tr>\n",
       "      <td>7593</td>\n",
       "      <td>NaN</td>\n",
       "      <td>NaN</td>\n",
       "      <td>2.0</td>\n",
       "    </tr>\n",
       "    <tr>\n",
       "      <td>8992</td>\n",
       "      <td>ATROPELAMENTO X PEDESTRE</td>\n",
       "      <td>NaN</td>\n",
       "      <td>1.0</td>\n",
       "    </tr>\n",
       "    <tr>\n",
       "      <td>10290</td>\n",
       "      <td>ATROPELAMENTO ENVOLVENDO ÔNIBUS E PEDESTRE C/V</td>\n",
       "      <td>NaN</td>\n",
       "      <td>1.0</td>\n",
       "    </tr>\n",
       "    <tr>\n",
       "      <td>10604</td>\n",
       "      <td>O NÚMERO CITADO FICA NO LADO OPOSTO AO ATROPEL...</td>\n",
       "      <td>NaN</td>\n",
       "      <td>1.0</td>\n",
       "    </tr>\n",
       "    <tr>\n",
       "      <td>10712</td>\n",
       "      <td>CAMINHAO X CICLISTA</td>\n",
       "      <td>NaN</td>\n",
       "      <td>1.0</td>\n",
       "    </tr>\n",
       "  </tbody>\n",
       "</table>\n",
       "</div>"
      ],
      "text/plain": [
       "                                               descricao  vitimas  \\\n",
       "303     MOTOCICLISTA BATEU NA MURETA  E CAIU SOB VIADUTO      NaN   \n",
       "1882                                  COLISÃO SEM VÍTIMA      NaN   \n",
       "1939                   COLISÃO ENTRE CAMINHÃO E MOTO C/V      NaN   \n",
       "1968               ATROPELAMENTO ENTRE ONIBUS E PEDESTRE      NaN   \n",
       "3356                     ATROPELAMENTO ÔNIBUS E PEDESTRE      NaN   \n",
       "4656                       ENTRE ÔNIBUS E PEDESTRE. C/VF      NaN   \n",
       "5681   SEGUNDO As INFORMAÇÕES DO SD, O VEÍCULO EM QUE...      NaN   \n",
       "6128                                     CAMINHÃO E MOTO      NaN   \n",
       "6580          FNJ3382 CHEVROLET SPIN /  KMW9617 FIAT UNO      NaN   \n",
       "7593                                                 NaN      NaN   \n",
       "8992                            ATROPELAMENTO X PEDESTRE      NaN   \n",
       "10290     ATROPELAMENTO ENVOLVENDO ÔNIBUS E PEDESTRE C/V      NaN   \n",
       "10604  O NÚMERO CITADO FICA NO LADO OPOSTO AO ATROPEL...      NaN   \n",
       "10712                                CAMINHAO X CICLISTA      NaN   \n",
       "\n",
       "       vitimasfatais  \n",
       "303              1.0  \n",
       "1882             0.0  \n",
       "1939             1.0  \n",
       "1968             1.0  \n",
       "3356             1.0  \n",
       "4656             1.0  \n",
       "5681             1.0  \n",
       "6128             1.0  \n",
       "6580             0.0  \n",
       "7593             2.0  \n",
       "8992             1.0  \n",
       "10290            1.0  \n",
       "10604            1.0  \n",
       "10712            1.0  "
      ]
     },
     "execution_count": 1676,
     "metadata": {},
     "output_type": "execute_result"
    }
   ],
   "source": [
    "# Utilizando as colunas descricao e vitimasfatais para imputar dados ausentes na coluna vitimas\n",
    "acidentes_rec.reset_index(inplace=True,drop=True)\n",
    "acidentes_rec[acidentes_rec[\"vitimas\"].isna()][[\"descricao\",\"vitimas\",\"vitimasfatais\"]]"
   ]
  },
  {
   "cell_type": "code",
   "execution_count": 1677,
   "metadata": {},
   "outputs": [
    {
     "name": "stdout",
     "output_type": "stream",
     "text": [
      "SEGUNDO As INFORMAÇÕES DO SD, O VEÍCULO EM QUESTÃO PERDEU O CONTROLE E SE CHOCOU CONTRA UMA MURETA POR CIMA DO VIADUTO, CAUSANDO O ÓBITO DO CONDUTOR. \n",
      "\n",
      "FNJ3382 CHEVROLET SPIN /  KMW9617 FIAT UNO \n",
      "\n",
      "O NÚMERO CITADO FICA NO LADO OPOSTO AO ATROPELAMENTO \n",
      "\n"
     ]
    }
   ],
   "source": [
    "# Vendo a descrição completa dos acidentes registrados nos índices 5681, 6580 e 10604\n",
    "print(acidentes_rec.iloc[5681][\"descricao\"],\"\\n\")\n",
    "print(acidentes_rec.iloc[6580][\"descricao\"],\"\\n\")\n",
    "print(acidentes_rec.iloc[10604][\"descricao\"],\"\\n\")"
   ]
  },
  {
   "cell_type": "markdown",
   "metadata": {},
   "source": [
    "Note acima que cruzando informações das colunas `descricao` e `vitimasfatais` podemos imputar todos os dados ausentes da coluna `vitimas` simplesmente substituindo-os pelos valores presentes na coluna `vitimasfatais`."
   ]
  },
  {
   "cell_type": "code",
   "execution_count": 1678,
   "metadata": {},
   "outputs": [],
   "source": [
    "# Imputando os dados ausentes na coluna vitmas por valores da coluna vitimas fatais\n",
    "acidentes_rec.vitimas.fillna(acidentes_rec.vitimasfatais,inplace=True)"
   ]
  },
  {
   "cell_type": "markdown",
   "metadata": {},
   "source": [
    "Agora que utilizamos as informações da coluna `descricao`, podemos excluí-la, já que ela traz dados não estruturados, os quais estão além da escopo desta disciplina."
   ]
  },
  {
   "cell_type": "code",
   "execution_count": 1679,
   "metadata": {},
   "outputs": [
    {
     "data": {
      "text/plain": [
       "data_hora        0\n",
       "tipo             0\n",
       "situacao         0\n",
       "bairro           0\n",
       "endereco         0\n",
       "auto             0\n",
       "moto             0\n",
       "ciclom           0\n",
       "ciclista         0\n",
       "pedestre         0\n",
       "onibus           0\n",
       "caminhao         0\n",
       "viatura          0\n",
       "outros           0\n",
       "vitimas          0\n",
       "vitimasfatais    0\n",
       "dtype: int64"
      ]
     },
     "execution_count": 1679,
     "metadata": {},
     "output_type": "execute_result"
    }
   ],
   "source": [
    "# Excluindo a coluna descricao\n",
    "acidentes_rec.drop(columns=\"descricao\",inplace=True)\n",
    "acidentes_rec.isna().sum()"
   ]
  },
  {
   "cell_type": "markdown",
   "metadata": {},
   "source": [
    "Como podemos ver acima, não existem mais dados ausentes no nosso dataset."
   ]
  },
  {
   "cell_type": "markdown",
   "metadata": {},
   "source": [
    "## 2.3 Normalização dos dados"
   ]
  },
  {
   "cell_type": "markdown",
   "metadata": {},
   "source": [
    "Para fins de aprendizado, vamos criar uma nova coluna no nosso dataset, chamada de `porcetagem_vitimas_fatais`.\n",
    "\n",
    "Esta coluna informará a porcentagem das vítimas envolvidas nos acidentes que foram a óbito. \n",
    "\n",
    "Note que os valores na coluna `porcetagem_vitimas_fatais` irão variar de 0 a 100%, enquanto os valores das colunas `vitimas` e `vitimasfatais` variam de 0 a 7 e 0 a 2, respectivamente.\n",
    "\n",
    "Portanto, utilizaremos as diferenças nos intervalos dessas três colunas para justificar a necessidade de normalização dos seus dados.\n",
    "\n",
    "Uma vez que a coluna `porcetagem_vitimas_fatais` vai ser resultado da divisão da coluna `vitimasfatais` pela coluna `vitimas` multiplicado por 100, precisamos excluir do nosso dataset todos os acidentes em que não houve nenhuma vítima envolvida.\n",
    "\n",
    "Note que esta parte do projeto existe para fins puramente de aprendizagem de duas técnicas de normalização de dados vistas em sala de aula. A natureza dos dados de `acidentes_rec` não torna indispensável a normalização de seus dados porque os mesmos possuem intervalos similares neste dataset. "
   ]
  },
  {
   "cell_type": "code",
   "execution_count": 1680,
   "metadata": {},
   "outputs": [
    {
     "data": {
      "text/html": [
       "<div>\n",
       "<style scoped>\n",
       "    .dataframe tbody tr th:only-of-type {\n",
       "        vertical-align: middle;\n",
       "    }\n",
       "\n",
       "    .dataframe tbody tr th {\n",
       "        vertical-align: top;\n",
       "    }\n",
       "\n",
       "    .dataframe thead th {\n",
       "        text-align: right;\n",
       "    }\n",
       "</style>\n",
       "<table border=\"1\" class=\"dataframe\">\n",
       "  <thead>\n",
       "    <tr style=\"text-align: right;\">\n",
       "      <th></th>\n",
       "      <th>data_hora</th>\n",
       "      <th>tipo</th>\n",
       "      <th>situacao</th>\n",
       "      <th>bairro</th>\n",
       "      <th>endereco</th>\n",
       "      <th>auto</th>\n",
       "      <th>moto</th>\n",
       "      <th>ciclom</th>\n",
       "      <th>ciclista</th>\n",
       "      <th>pedestre</th>\n",
       "      <th>onibus</th>\n",
       "      <th>caminhao</th>\n",
       "      <th>viatura</th>\n",
       "      <th>outros</th>\n",
       "      <th>vitimas</th>\n",
       "      <th>vitimasfatais</th>\n",
       "      <th>porcetagem_vitimas_fatais</th>\n",
       "    </tr>\n",
       "  </thead>\n",
       "  <tbody>\n",
       "    <tr>\n",
       "      <td>0</td>\n",
       "      <td>2018-01-01 00:01:00</td>\n",
       "      <td>ATROPELAMENTO</td>\n",
       "      <td>FINALIZADA</td>\n",
       "      <td>SÃO JOSÉ</td>\n",
       "      <td>AV ENGENHEIRO JOSE ESTELITA</td>\n",
       "      <td>1.0</td>\n",
       "      <td>0.0</td>\n",
       "      <td>0.0</td>\n",
       "      <td>0.0</td>\n",
       "      <td>1.0</td>\n",
       "      <td>0.0</td>\n",
       "      <td>0.0</td>\n",
       "      <td>0.0</td>\n",
       "      <td>0.0</td>\n",
       "      <td>1.0</td>\n",
       "      <td>0.0</td>\n",
       "      <td>0.0</td>\n",
       "    </tr>\n",
       "    <tr>\n",
       "      <td>17</td>\n",
       "      <td>2018-01-02 16:11:00</td>\n",
       "      <td>COLISÃO</td>\n",
       "      <td>FINALIZADA</td>\n",
       "      <td>BAIRRO DO RECIFE</td>\n",
       "      <td>AV MILITAR</td>\n",
       "      <td>1.0</td>\n",
       "      <td>1.0</td>\n",
       "      <td>0.0</td>\n",
       "      <td>0.0</td>\n",
       "      <td>0.0</td>\n",
       "      <td>0.0</td>\n",
       "      <td>0.0</td>\n",
       "      <td>0.0</td>\n",
       "      <td>0.0</td>\n",
       "      <td>1.0</td>\n",
       "      <td>0.0</td>\n",
       "      <td>0.0</td>\n",
       "    </tr>\n",
       "    <tr>\n",
       "      <td>19</td>\n",
       "      <td>2018-01-02 16:32:00</td>\n",
       "      <td>CHOQUE</td>\n",
       "      <td>FINALIZADA</td>\n",
       "      <td>ARRUDA</td>\n",
       "      <td>RUA PROFESSOR JERONIMO GUEIROS</td>\n",
       "      <td>1.0</td>\n",
       "      <td>0.0</td>\n",
       "      <td>0.0</td>\n",
       "      <td>0.0</td>\n",
       "      <td>0.0</td>\n",
       "      <td>0.0</td>\n",
       "      <td>0.0</td>\n",
       "      <td>0.0</td>\n",
       "      <td>0.0</td>\n",
       "      <td>1.0</td>\n",
       "      <td>0.0</td>\n",
       "      <td>0.0</td>\n",
       "    </tr>\n",
       "    <tr>\n",
       "      <td>21</td>\n",
       "      <td>2018-01-02 17:11:00</td>\n",
       "      <td>COLISÃO</td>\n",
       "      <td>FINALIZADA</td>\n",
       "      <td>APIPUCOS</td>\n",
       "      <td>RUA DE APIPUCOS</td>\n",
       "      <td>1.0</td>\n",
       "      <td>1.0</td>\n",
       "      <td>0.0</td>\n",
       "      <td>0.0</td>\n",
       "      <td>0.0</td>\n",
       "      <td>0.0</td>\n",
       "      <td>0.0</td>\n",
       "      <td>0.0</td>\n",
       "      <td>0.0</td>\n",
       "      <td>1.0</td>\n",
       "      <td>0.0</td>\n",
       "      <td>0.0</td>\n",
       "    </tr>\n",
       "    <tr>\n",
       "      <td>36</td>\n",
       "      <td>2018-01-03 07:06:00</td>\n",
       "      <td>COLISÃO</td>\n",
       "      <td>FINALIZADA</td>\n",
       "      <td>DERBY</td>\n",
       "      <td>RUA HENRIQUE DIAS</td>\n",
       "      <td>1.0</td>\n",
       "      <td>1.0</td>\n",
       "      <td>0.0</td>\n",
       "      <td>0.0</td>\n",
       "      <td>0.0</td>\n",
       "      <td>0.0</td>\n",
       "      <td>0.0</td>\n",
       "      <td>0.0</td>\n",
       "      <td>0.0</td>\n",
       "      <td>1.0</td>\n",
       "      <td>0.0</td>\n",
       "      <td>0.0</td>\n",
       "    </tr>\n",
       "  </tbody>\n",
       "</table>\n",
       "</div>"
      ],
      "text/plain": [
       "             data_hora           tipo    situacao            bairro  \\\n",
       "0  2018-01-01 00:01:00  ATROPELAMENTO  FINALIZADA          SÃO JOSÉ   \n",
       "17 2018-01-02 16:11:00        COLISÃO  FINALIZADA  BAIRRO DO RECIFE   \n",
       "19 2018-01-02 16:32:00         CHOQUE  FINALIZADA            ARRUDA   \n",
       "21 2018-01-02 17:11:00        COLISÃO  FINALIZADA          APIPUCOS   \n",
       "36 2018-01-03 07:06:00        COLISÃO  FINALIZADA             DERBY   \n",
       "\n",
       "                          endereco  auto  moto  ciclom  ciclista  pedestre  \\\n",
       "0      AV ENGENHEIRO JOSE ESTELITA   1.0   0.0     0.0       0.0       1.0   \n",
       "17                      AV MILITAR   1.0   1.0     0.0       0.0       0.0   \n",
       "19  RUA PROFESSOR JERONIMO GUEIROS   1.0   0.0     0.0       0.0       0.0   \n",
       "21                 RUA DE APIPUCOS   1.0   1.0     0.0       0.0       0.0   \n",
       "36               RUA HENRIQUE DIAS   1.0   1.0     0.0       0.0       0.0   \n",
       "\n",
       "    onibus  caminhao  viatura  outros  vitimas  vitimasfatais  \\\n",
       "0      0.0       0.0      0.0     0.0      1.0            0.0   \n",
       "17     0.0       0.0      0.0     0.0      1.0            0.0   \n",
       "19     0.0       0.0      0.0     0.0      1.0            0.0   \n",
       "21     0.0       0.0      0.0     0.0      1.0            0.0   \n",
       "36     0.0       0.0      0.0     0.0      1.0            0.0   \n",
       "\n",
       "    porcetagem_vitimas_fatais  \n",
       "0                         0.0  \n",
       "17                        0.0  \n",
       "19                        0.0  \n",
       "21                        0.0  \n",
       "36                        0.0  "
      ]
     },
     "execution_count": 1680,
     "metadata": {},
     "output_type": "execute_result"
    }
   ],
   "source": [
    "# Criando a coluna porcetagem_vitimas_fatais\n",
    "acidentes_com_vitimas=acidentes_rec[acidentes_rec.vitimas>0]\n",
    "porcetagem_vitimas_fatais=(acidentes_com_vitimas.vitimasfatais/acidentes_com_vitimas.vitimas)*100\n",
    "acidentes_com_vitimas=pd.concat([acidentes_com_vitimas,porcetagem_vitimas_fatais],axis=1)\n",
    "acidentes_com_vitimas.rename(columns={0:\"porcetagem_vitimas_fatais\"},inplace=True)\n",
    "acidentes_com_vitimas.head()"
   ]
  },
  {
   "cell_type": "code",
   "execution_count": 1681,
   "metadata": {},
   "outputs": [
    {
     "data": {
      "text/plain": [
       "0.000000      2003\n",
       "100.000000      20\n",
       "50.000000        2\n",
       "16.666667        1\n",
       "14.285714        1\n",
       "Name: porcetagem_vitimas_fatais, dtype: int64"
      ]
     },
     "execution_count": 1681,
     "metadata": {},
     "output_type": "execute_result"
    }
   ],
   "source": [
    "# Verificando os valores únicos da nova coluna porcetagem_vitimas_fatais\n",
    "acidentes_com_vitimas.porcetagem_vitimas_fatais.value_counts()"
   ]
  },
  {
   "cell_type": "markdown",
   "metadata": {},
   "source": [
    "### Normalização para intervalo entre 0 e 1\n",
    "\n",
    "Primeiro normalizaremos os dados da coluna `porcetagem_vitimas_fatais` manualmente, depois, utilizando a função `MinMaxScaler()`."
   ]
  },
  {
   "cell_type": "code",
   "execution_count": 1682,
   "metadata": {},
   "outputs": [
    {
     "data": {
      "text/plain": [
       "count    2027.000000\n",
       "mean        0.010513\n",
       "std         0.100158\n",
       "min         0.000000\n",
       "25%         0.000000\n",
       "50%         0.000000\n",
       "75%         0.000000\n",
       "max         1.000000\n",
       "Name: porcetagem_vitimas_fatais, dtype: float64"
      ]
     },
     "execution_count": 1682,
     "metadata": {},
     "output_type": "execute_result"
    }
   ],
   "source": [
    "# Normalização manual\n",
    "porcentagem_vf_std=(acidentes_com_vitimas.porcetagem_vitimas_fatais-\n",
    "                    acidentes_com_vitimas.porcetagem_vitimas_fatais.min(axis=0))/(acidentes_com_vitimas.porcetagem_vitimas_fatais.max(axis=0)-\n",
    "                                                                                  acidentes_com_vitimas.porcetagem_vitimas_fatais.min(axis=0))\n",
    "porcentagem_vf_norm=porcentagem_vf_std*(porcentagem_vf_std.max(axis=0)-porcentagem_vf_std.min(axis=0))+porcentagem_vf_std.min(axis=0)\n",
    "porcentagem_vf_norm.describe()"
   ]
  },
  {
   "cell_type": "code",
   "execution_count": 1683,
   "metadata": {},
   "outputs": [
    {
     "data": {
      "text/html": [
       "<div>\n",
       "<style scoped>\n",
       "    .dataframe tbody tr th:only-of-type {\n",
       "        vertical-align: middle;\n",
       "    }\n",
       "\n",
       "    .dataframe tbody tr th {\n",
       "        vertical-align: top;\n",
       "    }\n",
       "\n",
       "    .dataframe thead th {\n",
       "        text-align: right;\n",
       "    }\n",
       "</style>\n",
       "<table border=\"1\" class=\"dataframe\">\n",
       "  <thead>\n",
       "    <tr style=\"text-align: right;\">\n",
       "      <th></th>\n",
       "      <th>auto_norm</th>\n",
       "      <th>moto_norm</th>\n",
       "      <th>ciclom_norm</th>\n",
       "      <th>ciclista_norm</th>\n",
       "      <th>pedestre_norm</th>\n",
       "      <th>onibus_norm</th>\n",
       "      <th>caminhao_norm</th>\n",
       "      <th>viatura_norm</th>\n",
       "      <th>outros_norm</th>\n",
       "      <th>vitimas_norm</th>\n",
       "      <th>vitimasfatais_norm</th>\n",
       "      <th>porcetagem_vitimas_fatais_norm</th>\n",
       "    </tr>\n",
       "  </thead>\n",
       "  <tbody>\n",
       "    <tr>\n",
       "      <td>count</td>\n",
       "      <td>2027.000000</td>\n",
       "      <td>2027.000000</td>\n",
       "      <td>2027.000000</td>\n",
       "      <td>2027.000000</td>\n",
       "      <td>2027.000000</td>\n",
       "      <td>2027.000000</td>\n",
       "      <td>2027.000000</td>\n",
       "      <td>2027.000000</td>\n",
       "      <td>2027.000000</td>\n",
       "      <td>2027.000000</td>\n",
       "      <td>2027.000000</td>\n",
       "      <td>2027.000000</td>\n",
       "    </tr>\n",
       "    <tr>\n",
       "      <td>mean</td>\n",
       "      <td>0.214480</td>\n",
       "      <td>0.256866</td>\n",
       "      <td>0.015294</td>\n",
       "      <td>0.032067</td>\n",
       "      <td>0.049581</td>\n",
       "      <td>0.045141</td>\n",
       "      <td>0.017760</td>\n",
       "      <td>0.001603</td>\n",
       "      <td>0.006907</td>\n",
       "      <td>0.027791</td>\n",
       "      <td>0.006167</td>\n",
       "      <td>0.010513</td>\n",
       "    </tr>\n",
       "    <tr>\n",
       "      <td>std</td>\n",
       "      <td>0.145799</td>\n",
       "      <td>0.178707</td>\n",
       "      <td>0.122748</td>\n",
       "      <td>0.123529</td>\n",
       "      <td>0.153548</td>\n",
       "      <td>0.145887</td>\n",
       "      <td>0.096485</td>\n",
       "      <td>0.025096</td>\n",
       "      <td>0.082840</td>\n",
       "      <td>0.077991</td>\n",
       "      <td>0.057390</td>\n",
       "      <td>0.100158</td>\n",
       "    </tr>\n",
       "    <tr>\n",
       "      <td>min</td>\n",
       "      <td>0.000000</td>\n",
       "      <td>0.000000</td>\n",
       "      <td>0.000000</td>\n",
       "      <td>0.000000</td>\n",
       "      <td>0.000000</td>\n",
       "      <td>0.000000</td>\n",
       "      <td>0.000000</td>\n",
       "      <td>0.000000</td>\n",
       "      <td>0.000000</td>\n",
       "      <td>0.000000</td>\n",
       "      <td>0.000000</td>\n",
       "      <td>0.000000</td>\n",
       "    </tr>\n",
       "    <tr>\n",
       "      <td>25%</td>\n",
       "      <td>0.250000</td>\n",
       "      <td>0.000000</td>\n",
       "      <td>0.000000</td>\n",
       "      <td>0.000000</td>\n",
       "      <td>0.000000</td>\n",
       "      <td>0.000000</td>\n",
       "      <td>0.000000</td>\n",
       "      <td>0.000000</td>\n",
       "      <td>0.000000</td>\n",
       "      <td>0.000000</td>\n",
       "      <td>0.000000</td>\n",
       "      <td>0.000000</td>\n",
       "    </tr>\n",
       "    <tr>\n",
       "      <td>50%</td>\n",
       "      <td>0.250000</td>\n",
       "      <td>0.333333</td>\n",
       "      <td>0.000000</td>\n",
       "      <td>0.000000</td>\n",
       "      <td>0.000000</td>\n",
       "      <td>0.000000</td>\n",
       "      <td>0.000000</td>\n",
       "      <td>0.000000</td>\n",
       "      <td>0.000000</td>\n",
       "      <td>0.000000</td>\n",
       "      <td>0.000000</td>\n",
       "      <td>0.000000</td>\n",
       "    </tr>\n",
       "    <tr>\n",
       "      <td>75%</td>\n",
       "      <td>0.250000</td>\n",
       "      <td>0.333333</td>\n",
       "      <td>0.000000</td>\n",
       "      <td>0.000000</td>\n",
       "      <td>0.000000</td>\n",
       "      <td>0.000000</td>\n",
       "      <td>0.000000</td>\n",
       "      <td>0.000000</td>\n",
       "      <td>0.000000</td>\n",
       "      <td>0.000000</td>\n",
       "      <td>0.000000</td>\n",
       "      <td>0.000000</td>\n",
       "    </tr>\n",
       "    <tr>\n",
       "      <td>max</td>\n",
       "      <td>1.000000</td>\n",
       "      <td>1.000000</td>\n",
       "      <td>1.000000</td>\n",
       "      <td>1.000000</td>\n",
       "      <td>1.000000</td>\n",
       "      <td>1.000000</td>\n",
       "      <td>1.000000</td>\n",
       "      <td>1.000000</td>\n",
       "      <td>1.000000</td>\n",
       "      <td>1.000000</td>\n",
       "      <td>1.000000</td>\n",
       "      <td>1.000000</td>\n",
       "    </tr>\n",
       "  </tbody>\n",
       "</table>\n",
       "</div>"
      ],
      "text/plain": [
       "         auto_norm    moto_norm  ciclom_norm  ciclista_norm  pedestre_norm  \\\n",
       "count  2027.000000  2027.000000  2027.000000    2027.000000    2027.000000   \n",
       "mean      0.214480     0.256866     0.015294       0.032067       0.049581   \n",
       "std       0.145799     0.178707     0.122748       0.123529       0.153548   \n",
       "min       0.000000     0.000000     0.000000       0.000000       0.000000   \n",
       "25%       0.250000     0.000000     0.000000       0.000000       0.000000   \n",
       "50%       0.250000     0.333333     0.000000       0.000000       0.000000   \n",
       "75%       0.250000     0.333333     0.000000       0.000000       0.000000   \n",
       "max       1.000000     1.000000     1.000000       1.000000       1.000000   \n",
       "\n",
       "       onibus_norm  caminhao_norm  viatura_norm  outros_norm  vitimas_norm  \\\n",
       "count  2027.000000    2027.000000   2027.000000  2027.000000   2027.000000   \n",
       "mean      0.045141       0.017760      0.001603     0.006907      0.027791   \n",
       "std       0.145887       0.096485      0.025096     0.082840      0.077991   \n",
       "min       0.000000       0.000000      0.000000     0.000000      0.000000   \n",
       "25%       0.000000       0.000000      0.000000     0.000000      0.000000   \n",
       "50%       0.000000       0.000000      0.000000     0.000000      0.000000   \n",
       "75%       0.000000       0.000000      0.000000     0.000000      0.000000   \n",
       "max       1.000000       1.000000      1.000000     1.000000      1.000000   \n",
       "\n",
       "       vitimasfatais_norm  porcetagem_vitimas_fatais_norm  \n",
       "count         2027.000000                     2027.000000  \n",
       "mean             0.006167                        0.010513  \n",
       "std              0.057390                        0.100158  \n",
       "min              0.000000                        0.000000  \n",
       "25%              0.000000                        0.000000  \n",
       "50%              0.000000                        0.000000  \n",
       "75%              0.000000                        0.000000  \n",
       "max              1.000000                        1.000000  "
      ]
     },
     "execution_count": 1683,
     "metadata": {},
     "output_type": "execute_result"
    }
   ],
   "source": [
    "# Normalizando os dados das colunas numéricas com a função MinMaxScaler()\n",
    "scaler = MinMaxScaler()\n",
    "# Primeiro criaremos uma lista com os rótulos das colunas que serão normalizadas\n",
    "cols=['auto', 'moto', 'ciclom', 'ciclista', 'pedestre', 'onibus', 'caminhao',\n",
    "       'viatura', 'outros', 'vitimas', 'vitimasfatais',\n",
    "       'porcetagem_vitimas_fatais']\n",
    "\n",
    "# Aplicando a função MinMaxScaler() para normalizar as colunas numéricas do dataset\n",
    "cols_norm=scaler.fit_transform(acidentes_com_vitimas[cols])\n",
    "cols_norm=pd.DataFrame(cols_norm)\n",
    "\n",
    "# Renomeando as colunas normalizadas\n",
    "cols_inicio=list(range(12))\n",
    "cols_novo=[]\n",
    "dic_renom_cols={}\n",
    "for i in cols:\n",
    "    cols_novo.append(i+\"{}\".format(\"_norm\"))\n",
    "cols_novo\n",
    "\n",
    "for i,g in zip(cols_inicio,cols_novo):\n",
    "    dic_renom_cols[i]=g\n",
    "\n",
    "cols_norm=cols_norm.rename(columns=dic_renom_cols)\n",
    "    \n",
    "# Aplicando função describre() às colunas normalizadas\n",
    "cols_norm.describe()"
   ]
  },
  {
   "cell_type": "markdown",
   "metadata": {},
   "source": [
    "Note acima que com a normalização o intervalo dos valores de todas as colunas ficou entre 0 e 1.\n",
    "\n",
    "Além disso, compare as estatísticas descritivas da coluna `porcetagem_vitimas_fatais_norm` após a normalização manual e a realizada pela função `MinMaxScaler()`. Note que os valores são iguais, o que, portanto, revela o algoritmo por trás da função `MinMaxScaler()`."
   ]
  },
  {
   "cell_type": "markdown",
   "metadata": {},
   "source": [
    "### Normalização para média = 0 e desvio padrão igual = 1\n",
    "\n",
    "Agora, aplicaremos a segunda técnica de normalização, a qual torna a média igual=0 e desvio padrão=1 para qualquer variável.\n",
    "\n",
    "Assim como fizemos para a primeira técnica de normalização, aplicaremos primeiro a normalização manualmente à coluna `porcetagem_vitimas_fatais`. Em seguida, aplicaremos a função `StandardScaler()` para normalizar todas as variáveis quantitativas do nosso dataset. "
   ]
  },
  {
   "cell_type": "code",
   "execution_count": 1684,
   "metadata": {},
   "outputs": [
    {
     "data": {
      "text/plain": [
       "count    2.027000e+03\n",
       "mean     1.409003e-17\n",
       "std      1.000000e+00\n",
       "min     -1.049623e-01\n",
       "25%     -1.049623e-01\n",
       "50%     -1.049623e-01\n",
       "75%     -1.049623e-01\n",
       "max      9.879240e+00\n",
       "Name: porcetagem_vitimas_fatais, dtype: float64"
      ]
     },
     "execution_count": 1684,
     "metadata": {},
     "output_type": "execute_result"
    }
   ],
   "source": [
    "# Normalização manual da coluna porcetagem_vitimas_fatais\n",
    "porcentagem_vf_norm=(acidentes_com_vitimas.porcetagem_vitimas_fatais-\n",
    "                                acidentes_com_vitimas.porcetagem_vitimas_fatais.mean())/acidentes_com_vitimas.porcetagem_vitimas_fatais.std()\n",
    "porcentagem_vf_norm.describe()"
   ]
  },
  {
   "cell_type": "code",
   "execution_count": 1685,
   "metadata": {},
   "outputs": [
    {
     "data": {
      "text/html": [
       "<div>\n",
       "<style scoped>\n",
       "    .dataframe tbody tr th:only-of-type {\n",
       "        vertical-align: middle;\n",
       "    }\n",
       "\n",
       "    .dataframe tbody tr th {\n",
       "        vertical-align: top;\n",
       "    }\n",
       "\n",
       "    .dataframe thead th {\n",
       "        text-align: right;\n",
       "    }\n",
       "</style>\n",
       "<table border=\"1\" class=\"dataframe\">\n",
       "  <thead>\n",
       "    <tr style=\"text-align: right;\">\n",
       "      <th></th>\n",
       "      <th>auto_norm</th>\n",
       "      <th>moto_norm</th>\n",
       "      <th>ciclom_norm</th>\n",
       "      <th>ciclista_norm</th>\n",
       "      <th>pedestre_norm</th>\n",
       "      <th>onibus_norm</th>\n",
       "      <th>caminhao_norm</th>\n",
       "      <th>viatura_norm</th>\n",
       "      <th>outros_norm</th>\n",
       "      <th>vitimas_norm</th>\n",
       "      <th>vitimasfatais_norm</th>\n",
       "      <th>porcetagem_vitimas_fatais_norm</th>\n",
       "    </tr>\n",
       "  </thead>\n",
       "  <tbody>\n",
       "    <tr>\n",
       "      <td>count</td>\n",
       "      <td>2.027000e+03</td>\n",
       "      <td>2.027000e+03</td>\n",
       "      <td>2.027000e+03</td>\n",
       "      <td>2.027000e+03</td>\n",
       "      <td>2.027000e+03</td>\n",
       "      <td>2.027000e+03</td>\n",
       "      <td>2.027000e+03</td>\n",
       "      <td>2.027000e+03</td>\n",
       "      <td>2.027000e+03</td>\n",
       "      <td>2.027000e+03</td>\n",
       "      <td>2.027000e+03</td>\n",
       "      <td>2.027000e+03</td>\n",
       "    </tr>\n",
       "    <tr>\n",
       "      <td>mean</td>\n",
       "      <td>-5.062277e-17</td>\n",
       "      <td>6.903977e-17</td>\n",
       "      <td>2.931520e-16</td>\n",
       "      <td>-1.108306e-15</td>\n",
       "      <td>-1.762554e-16</td>\n",
       "      <td>-5.166618e-16</td>\n",
       "      <td>5.652717e-16</td>\n",
       "      <td>2.612612e-17</td>\n",
       "      <td>3.801158e-16</td>\n",
       "      <td>5.636011e-16</td>\n",
       "      <td>1.400924e-16</td>\n",
       "      <td>-1.899347e-16</td>\n",
       "    </tr>\n",
       "    <tr>\n",
       "      <td>std</td>\n",
       "      <td>1.000247e+00</td>\n",
       "      <td>1.000247e+00</td>\n",
       "      <td>1.000247e+00</td>\n",
       "      <td>1.000247e+00</td>\n",
       "      <td>1.000247e+00</td>\n",
       "      <td>1.000247e+00</td>\n",
       "      <td>1.000247e+00</td>\n",
       "      <td>1.000247e+00</td>\n",
       "      <td>1.000247e+00</td>\n",
       "      <td>1.000247e+00</td>\n",
       "      <td>1.000247e+00</td>\n",
       "      <td>1.000247e+00</td>\n",
       "    </tr>\n",
       "    <tr>\n",
       "      <td>min</td>\n",
       "      <td>-1.471424e+00</td>\n",
       "      <td>-1.437707e+00</td>\n",
       "      <td>-1.246237e-01</td>\n",
       "      <td>-2.596554e-01</td>\n",
       "      <td>-3.229792e-01</td>\n",
       "      <td>-3.094972e-01</td>\n",
       "      <td>-1.841185e-01</td>\n",
       "      <td>-6.390348e-02</td>\n",
       "      <td>-8.339541e-02</td>\n",
       "      <td>-3.564306e-01</td>\n",
       "      <td>-1.074794e-01</td>\n",
       "      <td>-1.049882e-01</td>\n",
       "    </tr>\n",
       "    <tr>\n",
       "      <td>25%</td>\n",
       "      <td>2.436860e-01</td>\n",
       "      <td>-1.437707e+00</td>\n",
       "      <td>-1.246237e-01</td>\n",
       "      <td>-2.596554e-01</td>\n",
       "      <td>-3.229792e-01</td>\n",
       "      <td>-3.094972e-01</td>\n",
       "      <td>-1.841185e-01</td>\n",
       "      <td>-6.390348e-02</td>\n",
       "      <td>-8.339541e-02</td>\n",
       "      <td>-3.564306e-01</td>\n",
       "      <td>-1.074794e-01</td>\n",
       "      <td>-1.049882e-01</td>\n",
       "    </tr>\n",
       "    <tr>\n",
       "      <td>50%</td>\n",
       "      <td>2.436860e-01</td>\n",
       "      <td>4.279987e-01</td>\n",
       "      <td>-1.246237e-01</td>\n",
       "      <td>-2.596554e-01</td>\n",
       "      <td>-3.229792e-01</td>\n",
       "      <td>-3.094972e-01</td>\n",
       "      <td>-1.841185e-01</td>\n",
       "      <td>-6.390348e-02</td>\n",
       "      <td>-8.339541e-02</td>\n",
       "      <td>-3.564306e-01</td>\n",
       "      <td>-1.074794e-01</td>\n",
       "      <td>-1.049882e-01</td>\n",
       "    </tr>\n",
       "    <tr>\n",
       "      <td>75%</td>\n",
       "      <td>2.436860e-01</td>\n",
       "      <td>4.279987e-01</td>\n",
       "      <td>-1.246237e-01</td>\n",
       "      <td>-2.596554e-01</td>\n",
       "      <td>-3.229792e-01</td>\n",
       "      <td>-3.094972e-01</td>\n",
       "      <td>-1.841185e-01</td>\n",
       "      <td>-6.390348e-02</td>\n",
       "      <td>-8.339541e-02</td>\n",
       "      <td>-3.564306e-01</td>\n",
       "      <td>-1.074794e-01</td>\n",
       "      <td>-1.049882e-01</td>\n",
       "    </tr>\n",
       "    <tr>\n",
       "      <td>max</td>\n",
       "      <td>5.389015e+00</td>\n",
       "      <td>4.159411e+00</td>\n",
       "      <td>8.024157e+00</td>\n",
       "      <td>7.837599e+00</td>\n",
       "      <td>6.191238e+00</td>\n",
       "      <td>6.546795e+00</td>\n",
       "      <td>1.018278e+01</td>\n",
       "      <td>3.979220e+01</td>\n",
       "      <td>1.199107e+01</td>\n",
       "      <td>1.246875e+01</td>\n",
       "      <td>1.732138e+01</td>\n",
       "      <td>9.881678e+00</td>\n",
       "    </tr>\n",
       "  </tbody>\n",
       "</table>\n",
       "</div>"
      ],
      "text/plain": [
       "          auto_norm     moto_norm   ciclom_norm  ciclista_norm  pedestre_norm  \\\n",
       "count  2.027000e+03  2.027000e+03  2.027000e+03   2.027000e+03   2.027000e+03   \n",
       "mean  -5.062277e-17  6.903977e-17  2.931520e-16  -1.108306e-15  -1.762554e-16   \n",
       "std    1.000247e+00  1.000247e+00  1.000247e+00   1.000247e+00   1.000247e+00   \n",
       "min   -1.471424e+00 -1.437707e+00 -1.246237e-01  -2.596554e-01  -3.229792e-01   \n",
       "25%    2.436860e-01 -1.437707e+00 -1.246237e-01  -2.596554e-01  -3.229792e-01   \n",
       "50%    2.436860e-01  4.279987e-01 -1.246237e-01  -2.596554e-01  -3.229792e-01   \n",
       "75%    2.436860e-01  4.279987e-01 -1.246237e-01  -2.596554e-01  -3.229792e-01   \n",
       "max    5.389015e+00  4.159411e+00  8.024157e+00   7.837599e+00   6.191238e+00   \n",
       "\n",
       "        onibus_norm  caminhao_norm  viatura_norm   outros_norm  vitimas_norm  \\\n",
       "count  2.027000e+03   2.027000e+03  2.027000e+03  2.027000e+03  2.027000e+03   \n",
       "mean  -5.166618e-16   5.652717e-16  2.612612e-17  3.801158e-16  5.636011e-16   \n",
       "std    1.000247e+00   1.000247e+00  1.000247e+00  1.000247e+00  1.000247e+00   \n",
       "min   -3.094972e-01  -1.841185e-01 -6.390348e-02 -8.339541e-02 -3.564306e-01   \n",
       "25%   -3.094972e-01  -1.841185e-01 -6.390348e-02 -8.339541e-02 -3.564306e-01   \n",
       "50%   -3.094972e-01  -1.841185e-01 -6.390348e-02 -8.339541e-02 -3.564306e-01   \n",
       "75%   -3.094972e-01  -1.841185e-01 -6.390348e-02 -8.339541e-02 -3.564306e-01   \n",
       "max    6.546795e+00   1.018278e+01  3.979220e+01  1.199107e+01  1.246875e+01   \n",
       "\n",
       "       vitimasfatais_norm  porcetagem_vitimas_fatais_norm  \n",
       "count        2.027000e+03                    2.027000e+03  \n",
       "mean         1.400924e-16                   -1.899347e-16  \n",
       "std          1.000247e+00                    1.000247e+00  \n",
       "min         -1.074794e-01                   -1.049882e-01  \n",
       "25%         -1.074794e-01                   -1.049882e-01  \n",
       "50%         -1.074794e-01                   -1.049882e-01  \n",
       "75%         -1.074794e-01                   -1.049882e-01  \n",
       "max          1.732138e+01                    9.881678e+00  "
      ]
     },
     "execution_count": 1685,
     "metadata": {},
     "output_type": "execute_result"
    }
   ],
   "source": [
    "# Normalizando os dados das colunas numéricas com a função StandardScaler()\n",
    "scaler = StandardScaler()\n",
    "# Primeiro criaremos uma lista com os rótulos das colunas que serão normalizadas\n",
    "cols=['auto', 'moto', 'ciclom', 'ciclista', 'pedestre', 'onibus', 'caminhao',\n",
    "       'viatura', 'outros', 'vitimas', 'vitimasfatais',\n",
    "       'porcetagem_vitimas_fatais']\n",
    "\n",
    "# Aplicando a função StandardScaler() para normalizar as colunas numéricas do dataset\n",
    "cols_norm=scaler.fit_transform(acidentes_com_vitimas[cols])\n",
    "cols_norm=pd.DataFrame(cols_norm)\n",
    "\n",
    "# Renomeando as colunas normalizadas\n",
    "cols_inicio=list(range(12))\n",
    "cols_novo=[]\n",
    "dic_renom_cols={}\n",
    "for i in cols:\n",
    "    cols_novo.append(i+\"{}\".format(\"_norm\"))\n",
    "cols_novo\n",
    "\n",
    "for i,g in zip(cols_inicio,cols_novo):\n",
    "    dic_renom_cols[i]=g\n",
    "\n",
    "cols_norm=cols_norm.rename(columns=dic_renom_cols)\n",
    "    \n",
    "# Aplicando função describre() às colunas normalizadas\n",
    "cols_norm.describe()"
   ]
  },
  {
   "cell_type": "markdown",
   "metadata": {},
   "source": [
    "Note que, tanto com a normalização manual, quanto com a normalização realizada pela função `StandardScaler()`,  os valores das médias de dos desvios padrões não ficaram exatamente iguais, mas muito próximos a 0 e 1, respectivamente. Portanto, podemos considerar os valores de média e desvio padrão iguais a 0 e 1, respectivamente."
   ]
  },
  {
   "cell_type": "markdown",
   "metadata": {},
   "source": [
    "## 2.4 Discretização dos dados\n",
    "\n",
    "### Discretização 1 - classificação manual \n",
    "\n",
    "Faremos duas discretizações neste projeto. Abaixo está descrito como faremos a primeira discretização. \n",
    "\n",
    "Para trabalhar nesta discretização, voltaremos ao dataset `acidentes_rec` e criaremos uma nova coluna denominada `n_partes_envolvidas`. Esta coluna conterá o número de partes envolvidas em cada acidente ocorrido em Recife em 2018. São definidas como \"partes\" veículos (qualquer tipo), ciclistas ou pedestres envolvidos nos acidentes.\n",
    "\n",
    "Nesta discretização classificaremos os acidentes como sendo de \"porte pequeno\", \"porte intermediário\" e \"porte grande\". O porte dos acidentes será definido em função do número de partes envolvidas. \n",
    "\n",
    "Acidentes de \"porte pequeno\" serão definidos como aqueles envolvendo até 2 partes.\n",
    "Acidentes de \"porte médio\" serão definidos como aqueles envolvendo 3 a 5 partes.\n",
    "Acidentes de \"porte grande\" serão definidos como aqueles envolvendo mais de 5 partes.\n",
    "\n",
    "Entretanto, antes de realizarmos a discretização, vamos criar a coluna `n_partes_envolvidas` e plotar uma histograma para visualizar a distribuição dos seus valores."
   ]
  },
  {
   "cell_type": "code",
   "execution_count": 1686,
   "metadata": {},
   "outputs": [
    {
     "data": {
      "image/png": "[encoded data removed]",
      "text/plain": [
       "<Figure size 576x432 with 1 Axes>"
      ]
     },
     "metadata": {
      "needs_background": "light"
     },
     "output_type": "display_data"
    }
   ],
   "source": [
    "# Criando a variável n_partes_envolvidas \n",
    "acidentes_rec[\"n_partes_envolvidas\"]=acidentes_rec.loc[:,\"auto\":\"outros\"].sum(axis=1)\n",
    "\n",
    "# Visualizando a distribuição dos valores em n_partes_envolvidas\n",
    "plt.figure(figsize=(8,6))\n",
    "acidentes_rec.n_partes_envolvidas.hist()\n",
    "plt.xlabel(\"Número de partes envolvidas nos acidentes\",fontsize=14)\n",
    "plt.ylabel(\"Frequência\",fontsize=14)\n",
    "plt.xticks(fontsize=12)\n",
    "plt.yticks(fontsize=12)\n",
    "plt.show()"
   ]
  },
  {
   "cell_type": "markdown",
   "metadata": {},
   "source": [
    "Como podemos ver no histograma acima, grande parte dos acidentes envolveram 2 partes.\n",
    "\n",
    "Agora, vamos utilizar a coluna `n_partes_envolvidas` para classificar os acidentes nas seguintes categorias \"porte pequeno\", \"porte intermediário\" e \"porte grande\"."
   ]
  },
  {
   "cell_type": "code",
   "execution_count": 1687,
   "metadata": {},
   "outputs": [
    {
     "name": "stdout",
     "output_type": "stream",
     "text": [
      "Proporação dos acidentes de trânsito em Recife em 2018:\n",
      " pequeno porte    10335\n",
      "medio porte        884\n",
      "grande porte         6\n",
      "Name: porte_acidente, dtype: int64\n"
     ]
    }
   ],
   "source": [
    "# Discretizando a coluna n_partes_envolvidas\n",
    "def discret_n_partes(x):\n",
    "    if x<=2:\n",
    "        return \"pequeno porte\" \n",
    "    elif x > 2 and x<= 5:\n",
    "        return \"medio porte\" \n",
    "    else:\n",
    "        return \"grande porte\"\n",
    "    \n",
    "acidentes_rec[\"porte_acidente\"]=acidentes_rec.n_partes_envolvidas.apply(discret_n_partes)\n",
    "print(\"Proporação dos acidentes de trânsito em Recife em 2018:\\n\",acidentes_rec.porte_acidente.value_counts())"
   ]
  },
  {
   "cell_type": "markdown",
   "metadata": {},
   "source": [
    "Como podemos ver, a maioria dos acidentes que ocorreram no ano de 2018 em recife foram de pequeno porte, isto é, envolveram até dois veículos. Pouquíssimos acidentes, apenas 6, envolveram 5 ou mais veículos."
   ]
  },
  {
   "cell_type": "markdown",
   "metadata": {},
   "source": [
    "### Discretização 2 - utilizando a função `pd.cut()` \n",
    "\n",
    "A segunda discretização que faremos neste exercício utilizará a função `pd.cut()`. Aplicaremos esta função da coluna `auto` à coluna `outros` para criar três categorias referentes ao número de veículos (para cada tipo), ciclistas e pedestres envolvidos por acidente."
   ]
  },
  {
   "cell_type": "code",
   "execution_count": 1688,
   "metadata": {},
   "outputs": [
    {
     "data": {
      "image/png": "[encoded data removed]",
      "text/plain": [
       "<Figure size 1008x1368 with 9 Axes>"
      ]
     },
     "metadata": {
      "needs_background": "light"
     },
     "output_type": "display_data"
    }
   ],
   "source": [
    "# Categorizando o número de veículos (para cada tipo), ciclistas e pedestres envolvidos por acidente\n",
    "cols=acidentes_rec.loc[:,\"auto\":\"outros\"].columns.tolist()\n",
    "fig=plt.figure(figsize=(14,19))\n",
    "\n",
    "for i in range(9):\n",
    "    ax=fig.add_subplot(3,3,i+1)\n",
    "    bins=pd.cut(acidentes_rec[cols[i]],3).value_counts(normalize=True)*100\n",
    "    bins.plot.bar(rot=0)\n",
    "    plt.xlabel(\"Categoria\",fontsize=14)\n",
    "    plt.ylabel(\"%\",fontsize=14)\n",
    "    ax.set_title(cols[i],fontsize=16)   "
   ]
  },
  {
   "cell_type": "markdown",
   "metadata": {},
   "source": [
    "Como podemos ver, na maioria dos acidentes, apenas um representante de cada parte está envolvido. A única exceção é para `auto` (carro), onde acidentes envolvendo dois carros são quase tão frequentes quanto acidentes envolvendo apenas um carro."
   ]
  },
  {
   "cell_type": "markdown",
   "metadata": {},
   "source": [
    "## 2.5 Detecção de outliers \n",
    "### Univariado: z-score robusto\n",
    "\n",
    "Agora, vamos verificar se existem valores discrepantes no nosso dataset. Faremos isso, utilizando análise univariada e bivariada.\n",
    "\n",
    "Iniciaremos a detecção univariada de outliers, utilizando o z-score robusto, depois utilizaremos o método de Tukey.\n",
    "\n",
    "Para  a detecção de outliers, adicionaremos ao nosso dataset a coluna `n_partes_envolvidas`. Esta coluna conterá o número de partes envolvidas nos acidentes. Lembrando que definimos como \"partes\" veículos (de qualquer tipo), ciclistas ou pedestres envolvidos nos acidentes.\n",
    "\n",
    "Removeremos os outliers de todas as colunas quantitativas do dataset, isto é, da coluna `auto` até a coluna `n_partes_envolvidas`. "
   ]
  },
  {
   "cell_type": "code",
   "execution_count": 1689,
   "metadata": {},
   "outputs": [],
   "source": [
    "# Criando a coluna n_partes_envolvidas\n",
    "acidentes_rec[\"n_partes_envolvidas\"]=acidentes_rec.loc[:,\"auto\":\"outros\"].sum(axis=1)"
   ]
  },
  {
   "cell_type": "code",
   "execution_count": 1690,
   "metadata": {},
   "outputs": [
    {
     "name": "stdout",
     "output_type": "stream",
     "text": [
      "Número de linhas do dataset antes limpeza de outliers por z-score robusto: 11225 \n",
      "\n",
      "Número de linhas do dataset após limpeza de outliers por z-score robusto: 9771 \n",
      "\n",
      "Total de linhas removidas: 1454\n"
     ]
    }
   ],
   "source": [
    "# Excluindo do dataset outliers, utilizando o z-score robusto \n",
    "cols=acidentes_rec.loc[:, \"auto\":\"n_partes_envolvidas\"].columns.tolist()\n",
    "\n",
    "for i in range(12):\n",
    "    mad = acidentes_rec[cols[i]].mad()\n",
    "    acidentes_sem_outs_z=acidentes_rec[abs(acidentes_rec[cols[i]]-acidentes_rec[cols[i]].median())/mad<=3.5]\n",
    "    \n",
    "print(\"Número de linhas do dataset antes limpeza de outliers por z-score robusto:\",acidentes_rec.shape[0],\"\\n\")\n",
    "print(\"Número de linhas do dataset após limpeza de outliers por z-score robusto:\",acidentes_sem_outs_z.shape[0],\"\\n\")\n",
    "print(\"Total de linhas removidas:\", acidentes_rec.shape[0]-acidentes_sem_outs_z.shape[0])"
   ]
  },
  {
   "cell_type": "markdown",
   "metadata": {},
   "source": [
    "Como podemos ver acima, 1454 linhas do nosso dataset apresentaram outliers (valores com z-score robusto >3,5) em uma ou mais colunas."
   ]
  },
  {
   "cell_type": "markdown",
   "metadata": {},
   "source": [
    "## 2.5 Detecção de outliers \n",
    "### Univariado: método de Tukey\n",
    "\n",
    "Para detecção de outliers pelo método de Tukey, plotaremos boxplots de todas as colunas do dataset cujas variáveis são quantitativas, isto é, da coluna `auto` à coluna `n_partes_envolvidas`."
   ]
  },
  {
   "cell_type": "code",
   "execution_count": 1691,
   "metadata": {},
   "outputs": [
    {
     "data": {
      "image/png": "[encoded data removed]",
      "text/plain": [
       "<Figure size 864x720 with 12 Axes>"
      ]
     },
     "metadata": {
      "needs_background": "light"
     },
     "output_type": "display_data"
    }
   ],
   "source": [
    "# Visualizando outliers com o método de Tukey\n",
    "cols=acidentes_rec.loc[:, \"auto\":\"n_partes_envolvidas\"].columns.tolist()\n",
    "fig=plt.figure(figsize=(12,10))\n",
    "fig.suptitle(\"Detecção de outliers pelo método de Tukey\",fontsize=16)\n",
    "\n",
    "for i in range(12):\n",
    "    ax=fig.add_subplot(3,4,i+1)\n",
    "    acidentes_rec[cols[i]].plot.box()\n",
    "    plt.xticks(fontsize=12)"
   ]
  },
  {
   "cell_type": "markdown",
   "metadata": {},
   "source": [
    "Como podemos ver no painel acima, todas variáveis quantitativas do nosso dataset possuem outliers.\n",
    "\n",
    "Entretanto, esses outliers não parecem ser valores \"errados\" que foram incluídos no dataset. Por exemplo, a coluna `moto` \n",
    "possui um outlier com valor igual a 3. É perfeitamente possível haver um acidente envolvendo três motocicletas. Da mesma forma, a coluna `vitimas` possui um outlier com valor igual a 7. Também é perfeitamente possível haver um acidente envolvendo 7 vítimas.\n",
    "\n",
    "Embora, aparamente, não haja necessidade de remover os outliers do nosso dataset, mesmo assim aplicaremos o método de Tukey para fins de aprendizado."
   ]
  },
  {
   "cell_type": "code",
   "execution_count": 1692,
   "metadata": {},
   "outputs": [
    {
     "name": "stdout",
     "output_type": "stream",
     "text": [
      "Número de linhas do dataset antes da limpeza de outliers por método de Tukey: 11225 \n",
      "\n",
      "Número de linhas do dataset após a limpeza de outliers por método de Tukey: 1454 \n",
      "\n",
      "Total de linhas removidas: 9771\n"
     ]
    }
   ],
   "source": [
    "# Removendo outliers a partir do método de Tukey\n",
    "cols=acidentes_rec.loc[:,\"auto\":\"n_partes_envolvidas\"].columns.tolist()\n",
    "\n",
    "for i in range(12):\n",
    "    # Obtendo o primeiro quartil\n",
    "    q1=acidentes_rec[cols[i]].quantile(q=0.25)\n",
    "    # Obtendo o terceiro quartil\n",
    "    q3=acidentes_rec[cols[i]].quantile(q=0.75)\n",
    "    # Calculando o intervalo interquartil\n",
    "    iqr=q3-q1\n",
    "    acidentes_sem_outs_tuk=acidentes_rec[(acidentes_rec[cols[i]]>(q3+1.5*iqr)) | (acidentes_rec[cols[i]]<(q1-1.5*iqr))]\n",
    "    \n",
    "print(\"Número de linhas do dataset antes da limpeza de outliers por método de Tukey:\",acidentes_rec.shape[0],\"\\n\")\n",
    "print(\"Número de linhas do dataset após a limpeza de outliers por método de Tukey:\",acidentes_sem_outs_tuk.shape[0],\"\\n\")\n",
    "print(\"Total de linhas removidas:\", acidentes_rec.shape[0]-acidentes_sem_outs_tuk.shape[0])"
   ]
  },
  {
   "cell_type": "markdown",
   "metadata": {},
   "source": [
    "Como podemos ver, foram removidas do dataset 9771 linhas que possuíam outliers. Note que o número  de linhas removidas pelo método de Tukey foi bem maior, quando comparado ao número de linhas removidas pelo método do z-score robusto. \n",
    "\n",
    "Entretanto, lembre-se que, no caso deste dataset, os outliers parecem valores plausíveis. Portanto, os manteremos quando formos realizar a análise exploratória de dados mais adiante."
   ]
  },
  {
   "cell_type": "markdown",
   "metadata": {},
   "source": [
    "## 2.5 Detecção de outliers \n",
    "### Análise bivariada\n",
    "\n",
    "Também podemos detectar outliers analisando conjuntamente duas variáveis correlacionadas. Por exemplo, é de se esperar que quanto maior o número de partes envolvidas num acidente, maior será o número de vítimas do acidente. Dessa forma, espera-se que o número de partes envolvidas num acidente esteja positivamente correlacionada ao número de vítimas do acidente. Lembrando que definimos como \"partes\" veículos (qualquer tipo), ciclistas ou pedestres envolvidos nos acidentes.\n",
    "\n",
    "Vamos aplicar uma análise bivariada para detecção de outliers entre as colunas `n_partes_envolvidas` e `vitimas`."
   ]
  },
  {
   "cell_type": "code",
   "execution_count": 1693,
   "metadata": {},
   "outputs": [
    {
     "data": {
      "image/png": "[encoded data removed]",
      "text/plain": [
       "<Figure size 504x360 with 1 Axes>"
      ]
     },
     "metadata": {
      "needs_background": "light"
     },
     "output_type": "display_data"
    }
   ],
   "source": [
    "acidentes_rec.plot.scatter(x=\"n_partes_envolvidas\", y=\"vitimas\",figsize=(7,5))\n",
    "plt.title(\"Análise bivariada para detecção de outliers\")\n",
    "plt.show()\n"
   ]
  },
  {
   "cell_type": "markdown",
   "metadata": {},
   "source": [
    "Como podemos ver acima, apesar de intuitivamente se esperar correlação entre o número de partes envolvidas em um acidente e o número de vítimas do acidente, nosso dataset não apresenta esta correlação. Portanto, utilizar uma análise bivariada para detecção de outliers nesta situação parece inadequada."
   ]
  },
  {
   "cell_type": "markdown",
   "metadata": {},
   "source": [
    "# 3 Estatística descritiva e visualização dos dados\n",
    "\n",
    "Nesta parte do projeto focaremos em responder 5 perguntas referentes aos acidentes de trânsito em Recife no ano de 2018:\n",
    "- Pergunta 1: Em quais horários ocorrem mais acidentes de trânsito na cidade de Recife?\n",
    "- Pergunta 2: Em quais bairros do Recife acidentes de trânsito são mais communs?\n",
    "- Pergunta 3: O número de acidentes de trânsito por bairro está correlacionado com o número de vítimas de trânsito por bairro?\n",
    "- Pergunta 4: Quais tipos de acidentes causam maior número de vítimas fatais?\n",
    "- Pergunta 5: Qual a média, a mediana e o desvio padrão do número de vítimas por tipo de acidente?\n",
    "\n",
    "Ao responder estas perguntas, apresentaremos diferentes estatísticas descritivas, tais como medidas de tendência central (média, mediana e moda), medidas de dispersão (desvio padrão) e covariância."
   ]
  },
  {
   "cell_type": "markdown",
   "metadata": {},
   "source": [
    "## Pergunta 1: Em quais horários ocorrem mais acidentes de trânsito na cidade de Recife?\n"
   ]
  },
  {
   "cell_type": "code",
   "execution_count": 1694,
   "metadata": {},
   "outputs": [
    {
     "data": {
      "image/png": "[encoded data removed]",
      "text/plain": [
       "<Figure size 864x432 with 1 Axes>"
      ]
     },
     "metadata": {
      "needs_background": "light"
     },
     "output_type": "display_data"
    }
   ],
   "source": [
    "# Número de acidentes por horário\n",
    "horarios_acidentes=acidentes_rec.groupby(acidentes_rec.data_hora.dt.hour)[\"data_hora\"].count()\n",
    "\n",
    "plt.figure(figsize=(12,6))\n",
    "sns.barplot(x=horarios_acidentes,y=horarios_acidentes.index,orient=\"h\")\n",
    "plt.title(\"Número total de acidentes por horário\",fontsize=16)\n",
    "plt.xlabel(\"Número de acidentes\", fontsize=14)\n",
    "plt.ylabel(\"Hora\", fontsize=14)\n",
    "plt.show()"
   ]
  },
  {
   "cell_type": "markdown",
   "metadata": {},
   "source": [
    "Às 12h do dia foi o horário com maior número de acidentes em 2018, tendo ocorrido mais de 800 acidentes neste horário ao longo do ano. Entretanto, note que a quantidade de acidentes ao meio dia não é tão discrepante da quantidade de acidentes entre os horários das 8h às 18h. Esse padrão é esperado, uma vez que esses horários estão dentro do horário comercial, quando há maior fluxo de veículos nas ruas."
   ]
  },
  {
   "cell_type": "markdown",
   "metadata": {},
   "source": [
    "## Perguntas 2: Em quais bairros do Recife acidentes de trânsito são mais comuns?"
   ]
  },
  {
   "cell_type": "code",
   "execution_count": 1695,
   "metadata": {},
   "outputs": [
    {
     "data": {
      "image/png": "[encoded data removed]",
      "text/plain": [
       "<Figure size 1080x720 with 1 Axes>"
      ]
     },
     "metadata": {
      "needs_background": "light"
     },
     "output_type": "display_data"
    }
   ],
   "source": [
    "# Número de acidentes de trânsito por bairro\n",
    "bairros_acidentes=acidentes_rec.groupby(acidentes_rec.bairro)[\"bairro\"].count().sort_values(ascending=False).head(50)\n",
    "plt.figure(figsize=(15,10))\n",
    "sns.barplot(x=bairros_acidentes,y=bairros_acidentes.index,orient=\"h\")\n",
    "plt.show()"
   ]
  },
  {
   "cell_type": "markdown",
   "metadata": {},
   "source": [
    "Claramente o plot de barras acima mostra que Boa Viagem foi o bairro com maior número de acidentes de trânsito em 2018, com cerca de 1400 acidentes registrados. Note que a quantidade de acidentes de trânsito em Boa Viagem é cerca de duas vezes maior que o segundo colocado, o bairro da Imbiribeira. Uma possível explicação para Boa Viagem ser o bairro campeão em acidentes é o fato de ser uma bairro nobre e populoso, o que significa que há muitas pessoas com carros. "
   ]
  },
  {
   "cell_type": "markdown",
   "metadata": {},
   "source": [
    "## Pergunta 3: O número de acidentes de trânsito por bairro está correlacionado com o número de vítimas de trânsito por bairro?"
   ]
  },
  {
   "cell_type": "code",
   "execution_count": 1696,
   "metadata": {},
   "outputs": [
    {
     "data": {
      "image/png": "[encoded data removed]",
      "text/plain": [
       "<Figure size 432x432 with 1 Axes>"
      ]
     },
     "metadata": {
      "needs_background": "light"
     },
     "output_type": "display_data"
    }
   ],
   "source": [
    "# Caluclando o número de acidentes por bairro\n",
    "acidentes_bairros=acidentes_rec.groupby(acidentes_rec.bairro)[\"bairro\"].count()\n",
    "\n",
    "# Calculando o número vítimas de acidentes por bairro\n",
    "vitimas_bairros=acidentes_rec.groupby(acidentes_rec.bairro)[\"vitimas\"].sum()\n",
    "plt.figure(figsize=(6,6))\n",
    "plt.title(\"Acidentes vs. vítimas\",fontsize=16)\n",
    "sns.scatterplot(x=acidentes_bairros,y=vitimas_bairros)\n",
    "plt.xlabel(\"Número de acidentes por bairro\",fontsize=14)\n",
    "plt.xticks(fontsize=12)\n",
    "plt.yticks(fontsize=12)\n",
    "plt.ylabel(\"Número de vítimas por bairro\",fontsize=14)\n",
    "plt.show()"
   ]
  },
  {
   "cell_type": "code",
   "execution_count": 1697,
   "metadata": {},
   "outputs": [
    {
     "name": "stdout",
     "output_type": "stream",
     "text": [
      "Covariância entre número de acidentes e número de vítimas por bairro:\n",
      "                bairro      vitimas\n",
      "bairro   34293.922787  5954.148135\n",
      "vitimas   5954.148135  1117.447380 \n",
      "\n",
      "Teste de Pearson entre número de acidentes e número de vítimas por bairro:\n",
      "            bairro   vitimas\n",
      "bairro   1.000000  0.961828\n",
      "vitimas  0.961828  1.000000\n"
     ]
    }
   ],
   "source": [
    "# Calculando a covariância entre o número de acidentes por bairro e o número de vítimas de trânsito de por bairro\n",
    "acidentes_vitimas_bairros=pd.concat([acidentes_bairros,vitimas_bairros],axis=1)\n",
    "print(\"Covariância entre número de acidentes e número de vítimas por bairro:\\n\",acidentes_vitimas_bairros.cov(),\"\\n\")\n",
    "\n",
    "# Testando a significância estatística da correlação entre o número de acidentes e número de vítimas por bairro\n",
    "print(\"Teste de Pearson entre número de acidentes e número de vítimas por bairro:\\n\",acidentes_vitimas_bairros.corr(method=\"pearson\"))"
   ]
  },
  {
   "cell_type": "markdown",
   "metadata": {},
   "source": [
    "Como esperado, o scatterplot revela que o número de acidentes por bairro está altamente correlacionado positivamente com número de vítimas de trânsito por bairro. \n",
    "\n",
    "Note também que a covariância e o coeficiente de correlação de Pearson confirmam a alta correlação revelada pelo scatter plot acima."
   ]
  },
  {
   "cell_type": "markdown",
   "metadata": {},
   "source": [
    "## Pergunta 4: Quais tipos de acidentes causam maior número de vítimas fatais?"
   ]
  },
  {
   "cell_type": "code",
   "execution_count": 1698,
   "metadata": {},
   "outputs": [
    {
     "data": {
      "image/png": "[encoded data removed]",
      "text/plain": [
       "<Figure size 720x360 with 1 Axes>"
      ]
     },
     "metadata": {
      "needs_background": "light"
     },
     "output_type": "display_data"
    }
   ],
   "source": [
    "# Porcetagem de vitimas fatais por tipo de acidente\n",
    "vitimas_fatais_acidente=acidentes_rec.groupby(acidentes_rec.tipo)[\"vitimasfatais\"].agg([\"count\",\"sum\"])\n",
    "vitimas_fatais_acidente[\"porcentagem_vf\"]=(vitimas_fatais_acidente[\"sum\"]/vitimas_fatais_acidente[\"count\"])*100\n",
    "vitimas_fatais_acidente=vitimas_fatais_acidente.sort_values(by=\"porcentagem_vf\",ascending=False)\n",
    "vitimas_fatais_acidente\n",
    "\n",
    "plt.figure(figsize=(10,5))\n",
    "plt.title(\"Nível de fatalidade dos acidentes de trânsito em Recife\",fontsize=16)\n",
    "sns.barplot(x=vitimas_fatais_acidente.porcentagem_vf,y=vitimas_fatais_acidente.index,orient=\"h\")\n",
    "plt.xlabel(\"Porcentagem de vítimas de fatais\",fontsize=14)\n",
    "plt.ylabel(\"Tipo de acidente de trânsito\",fontsize=14)\n",
    "plt.show()\n"
   ]
  },
  {
   "cell_type": "markdown",
   "metadata": {},
   "source": [
    "Como podemos ver acima, felizmente, apenas uma pequena proporção dos acidentes de trânsito causam vítimas fatais. O tipo de acidente com maior fatalidade é atropelamento, com cerca de 3,5% dos episódios de atropelamento resultando em vítimas fatais.\n",
    "\n",
    "O segundo tipo de acidente mais fatal é choque em objeto fixo, seguido de colisão frontal e colisão com ciclista. Para todas essas categorias a porcetagem de vítimas fatais está abaixo de 3%.\n",
    "\n",
    "Note que 8 dos 16 tipos de acidentes registrados não resultaram em vítimas fatais."
   ]
  },
  {
   "cell_type": "markdown",
   "metadata": {},
   "source": [
    "## Pergunta 5: Qual a média, a mediana e o desvio padrão do número de vítimas por tipo de acidente?\n"
   ]
  },
  {
   "cell_type": "code",
   "execution_count": 1699,
   "metadata": {},
   "outputs": [
    {
     "data": {
      "text/html": [
       "<div>\n",
       "<style scoped>\n",
       "    .dataframe tbody tr th:only-of-type {\n",
       "        vertical-align: middle;\n",
       "    }\n",
       "\n",
       "    .dataframe tbody tr th {\n",
       "        vertical-align: top;\n",
       "    }\n",
       "\n",
       "    .dataframe thead th {\n",
       "        text-align: right;\n",
       "    }\n",
       "</style>\n",
       "<table border=\"1\" class=\"dataframe\">\n",
       "  <thead>\n",
       "    <tr style=\"text-align: right;\">\n",
       "      <th></th>\n",
       "      <th>mean</th>\n",
       "      <th>median</th>\n",
       "      <th>std</th>\n",
       "    </tr>\n",
       "    <tr>\n",
       "      <th>tipo</th>\n",
       "      <th></th>\n",
       "      <th></th>\n",
       "      <th></th>\n",
       "    </tr>\n",
       "  </thead>\n",
       "  <tbody>\n",
       "    <tr>\n",
       "      <td>ATROPELAMENTO</td>\n",
       "      <td>1.051887</td>\n",
       "      <td>1.0</td>\n",
       "      <td>0.326036</td>\n",
       "    </tr>\n",
       "    <tr>\n",
       "      <td>COLISÃO COM CICLISTA</td>\n",
       "      <td>0.895706</td>\n",
       "      <td>1.0</td>\n",
       "      <td>0.516559</td>\n",
       "    </tr>\n",
       "    <tr>\n",
       "      <td>ACID. DE PERCURSO</td>\n",
       "      <td>0.807018</td>\n",
       "      <td>1.0</td>\n",
       "      <td>0.580597</td>\n",
       "    </tr>\n",
       "    <tr>\n",
       "      <td>TOMBAMENTO</td>\n",
       "      <td>0.666667</td>\n",
       "      <td>0.5</td>\n",
       "      <td>0.816497</td>\n",
       "    </tr>\n",
       "    <tr>\n",
       "      <td>CAPOTAMENTO</td>\n",
       "      <td>0.636364</td>\n",
       "      <td>0.5</td>\n",
       "      <td>0.789542</td>\n",
       "    </tr>\n",
       "    <tr>\n",
       "      <td>ATROPELAMENTO ANIMAL</td>\n",
       "      <td>0.571429</td>\n",
       "      <td>1.0</td>\n",
       "      <td>0.534522</td>\n",
       "    </tr>\n",
       "    <tr>\n",
       "      <td>COLISÃO FRONTAL</td>\n",
       "      <td>0.551020</td>\n",
       "      <td>0.0</td>\n",
       "      <td>1.137637</td>\n",
       "    </tr>\n",
       "    <tr>\n",
       "      <td>CHOQUE OBJETO FIXO</td>\n",
       "      <td>0.447368</td>\n",
       "      <td>0.0</td>\n",
       "      <td>1.082973</td>\n",
       "    </tr>\n",
       "    <tr>\n",
       "      <td>CHOQUE</td>\n",
       "      <td>0.306122</td>\n",
       "      <td>0.0</td>\n",
       "      <td>0.685501</td>\n",
       "    </tr>\n",
       "    <tr>\n",
       "      <td>ABALROAMENTO TRANSVERSAL</td>\n",
       "      <td>0.299735</td>\n",
       "      <td>0.0</td>\n",
       "      <td>0.629780</td>\n",
       "    </tr>\n",
       "    <tr>\n",
       "      <td>COLISÃO</td>\n",
       "      <td>0.175180</td>\n",
       "      <td>0.0</td>\n",
       "      <td>0.447221</td>\n",
       "    </tr>\n",
       "    <tr>\n",
       "      <td>ABALROAMENTO LONGITUDINAL</td>\n",
       "      <td>0.158798</td>\n",
       "      <td>0.0</td>\n",
       "      <td>0.453217</td>\n",
       "    </tr>\n",
       "    <tr>\n",
       "      <td>COLISÃO TRASEIRA</td>\n",
       "      <td>0.137864</td>\n",
       "      <td>0.0</td>\n",
       "      <td>0.392566</td>\n",
       "    </tr>\n",
       "    <tr>\n",
       "      <td>CHOQUE VEÍCULO PARADO</td>\n",
       "      <td>0.116883</td>\n",
       "      <td>0.0</td>\n",
       "      <td>0.361795</td>\n",
       "    </tr>\n",
       "    <tr>\n",
       "      <td>ENGAVETAMENTO</td>\n",
       "      <td>0.063953</td>\n",
       "      <td>0.0</td>\n",
       "      <td>0.289146</td>\n",
       "    </tr>\n",
       "    <tr>\n",
       "      <td>QUEDA DE ÁRVORE</td>\n",
       "      <td>0.000000</td>\n",
       "      <td>0.0</td>\n",
       "      <td>0.000000</td>\n",
       "    </tr>\n",
       "  </tbody>\n",
       "</table>\n",
       "</div>"
      ],
      "text/plain": [
       "                               mean  median       std\n",
       "tipo                                                 \n",
       "ATROPELAMENTO              1.051887     1.0  0.326036\n",
       "COLISÃO COM CICLISTA       0.895706     1.0  0.516559\n",
       "ACID. DE PERCURSO          0.807018     1.0  0.580597\n",
       "TOMBAMENTO                 0.666667     0.5  0.816497\n",
       "CAPOTAMENTO                0.636364     0.5  0.789542\n",
       "ATROPELAMENTO ANIMAL       0.571429     1.0  0.534522\n",
       "COLISÃO FRONTAL            0.551020     0.0  1.137637\n",
       "CHOQUE OBJETO FIXO         0.447368     0.0  1.082973\n",
       "CHOQUE                     0.306122     0.0  0.685501\n",
       "ABALROAMENTO TRANSVERSAL   0.299735     0.0  0.629780\n",
       "COLISÃO                    0.175180     0.0  0.447221\n",
       "ABALROAMENTO LONGITUDINAL  0.158798     0.0  0.453217\n",
       "COLISÃO TRASEIRA           0.137864     0.0  0.392566\n",
       "CHOQUE VEÍCULO PARADO      0.116883     0.0  0.361795\n",
       "ENGAVETAMENTO              0.063953     0.0  0.289146\n",
       "QUEDA DE ÁRVORE            0.000000     0.0  0.000000"
      ]
     },
     "execution_count": 1699,
     "metadata": {},
     "output_type": "execute_result"
    }
   ],
   "source": [
    "desv_pad_acidentes=acidentes_rec.groupby(\"tipo\").agg([\"mean\",\"median\",\"std\"])[\"vitimas\"]\n",
    "desv_pad_acidentes=desv_pad_acidentes.sort_values(by=\"mean\",ascending=False)\n",
    "desv_pad_acidentes"
   ]
  },
  {
   "cell_type": "markdown",
   "metadata": {},
   "source": [
    "Note que os valores das médias e das medianas são discrepantes em vários tipos de acidentes. Isso indica que o número de vítimas por tipo de acidente tem distribuição bastante heterogênea. \n",
    "\n",
    "Note também que existem categorias de acidentes que possuem alto desvio padrão enquanto outros tipos de acidentes possuem  baixo desvio padrão para o número de vítimas. Este fato revela que existem tipos acidentes que são mais prováveis de resultar em vítimas do que outros tipos de acidentes. Por exemplo, o desvio padrão de `COLISÃO FRONTAL` é 4 vezes maior que o desvio padrão de `ENGAVETAMENTO`. "
   ]
  },
  {
   "cell_type": "markdown",
   "metadata": {},
   "source": [
    "# 4 Conclusões\n",
    "\n",
    "Neste projeto realizamos várias etapas de tratamento e limpeza de dados. Em seguida, realizamos uma análise exploratória dos dados e pudemos responder algumas perguntas acerca dos acidentes de trânsito que aconteceram no município de Recife no ano de 2018.\n",
    "\n",
    "Dentre outras coisas, descobrimos que Boa Viagem foi o bairro que apresentou maior quatidade de acidentes. Também descobrimos que apenas uma pequena proporção dos acidentes resultaram em vítimas fatais, sendo atropelamento o tipo de acidente mais fatal, com ceca de 3,5% deles resultando em vítimas fatais."
   ]
  }
 ],
 "metadata": {
  "colab": {
   "collapsed_sections": [],
   "name": "Introduçã_análise_dados.ipynb",
   "provenance": []
  },
  "kernelspec": {
   "display_name": "Python 3",
   "language": "python",
   "name": "python3"
  },
  "language_info": {
   "codemirror_mode": {
    "name": "ipython",
    "version": 3
   },
   "file_extension": ".py",
   "mimetype": "text/x-python",
   "name": "python",
   "nbconvert_exporter": "python",
   "pygments_lexer": "ipython3",
   "version": "3.7.4"
  }
 },
 "nbformat": 4,
 "nbformat_minor": 1
}
